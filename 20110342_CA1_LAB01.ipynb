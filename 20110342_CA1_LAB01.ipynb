{
 "cells": [
  {
   "cell_type": "markdown",
   "id": "e502b3b0",
   "metadata": {},
   "source": [
    "### 20110342_NguyenThanhTruc\n",
    "### Requirement :\n",
    "1. Read data\n",
    "2. Visualize some information of data\n",
    "3. Normalize Data to train linear regression model\n",
    "4. Train linear regression model and show the model's intercepts, coeficients\n",
    "5. Learn on sklearn how to use Ridge, Lasso, and ElasticNet compare the error of all 3 algorithms with Linear Regression (https://scikit-learn.org/stable/index.html)\n",
    "6. Let's try Polynomial of order 2 to compare the previous results. What will the result be if we choose the n order too high?\n"
   ]
  },
  {
   "cell_type": "code",
   "execution_count": 1,
   "id": "7777579c",
   "metadata": {},
   "outputs": [],
   "source": [
    "# Khai báo hàm thư viện\n",
    "import pandas as pd  \n",
    "import numpy as np \n",
    "import seaborn as sns"
   ]
  },
  {
   "cell_type": "markdown",
   "id": "e29ec0bd",
   "metadata": {},
   "source": [
    "#### This is the feature of dataset about the amount money a person is gotten from a mortgage of home\n",
    "* Gender: Gender of the borrower (including two values 'F' and 'M')\n",
    "* Age: Age of the customer applying for a loan (including positive integer values)\n",
    "* Income (USD): Customer's income in USD (value is a positive number)\n",
    "* Income Stability: The level of customer's income stability (including three values of Low and High)\n",
    "* Property Age: Life expectancy of the house in days (including positive integer values)\n",
    "* Property Location: Location of the house (including 'Rural', 'Urban', and 'Semi-Urban')\n",
    "* Property Price: The value of the house in USD (including positive real values)\n",
    "* Loan Sanction Amount (USD): Amount that customers can borrow in USD (target value)"
   ]
  },
  {
   "cell_type": "code",
   "execution_count": 2,
   "id": "cb9b9860",
   "metadata": {},
   "outputs": [
    {
     "data": {
      "text/html": [
       "<div>\n",
       "<style scoped>\n",
       "    .dataframe tbody tr th:only-of-type {\n",
       "        vertical-align: middle;\n",
       "    }\n",
       "\n",
       "    .dataframe tbody tr th {\n",
       "        vertical-align: top;\n",
       "    }\n",
       "\n",
       "    .dataframe thead th {\n",
       "        text-align: right;\n",
       "    }\n",
       "</style>\n",
       "<table border=\"1\" class=\"dataframe\">\n",
       "  <thead>\n",
       "    <tr style=\"text-align: right;\">\n",
       "      <th></th>\n",
       "      <th>Gender</th>\n",
       "      <th>Age</th>\n",
       "      <th>Income (USD)</th>\n",
       "      <th>Income Stability</th>\n",
       "      <th>Property Age</th>\n",
       "      <th>Property Location</th>\n",
       "      <th>Property Price</th>\n",
       "      <th>Loan Sanction Amount (USD)</th>\n",
       "    </tr>\n",
       "  </thead>\n",
       "  <tbody>\n",
       "    <tr>\n",
       "      <th>0</th>\n",
       "      <td>F</td>\n",
       "      <td>19</td>\n",
       "      <td>1641.25</td>\n",
       "      <td>Low</td>\n",
       "      <td>1651.25</td>\n",
       "      <td>Rural</td>\n",
       "      <td>59641.82</td>\n",
       "      <td>21026.420753</td>\n",
       "    </tr>\n",
       "    <tr>\n",
       "      <th>1</th>\n",
       "      <td>M</td>\n",
       "      <td>29</td>\n",
       "      <td>1989.71</td>\n",
       "      <td>Low</td>\n",
       "      <td>1990.71</td>\n",
       "      <td>Urban</td>\n",
       "      <td>179858.51</td>\n",
       "      <td>60595.183366</td>\n",
       "    </tr>\n",
       "    <tr>\n",
       "      <th>2</th>\n",
       "      <td>F</td>\n",
       "      <td>37</td>\n",
       "      <td>1849.91</td>\n",
       "      <td>Low</td>\n",
       "      <td>1856.91</td>\n",
       "      <td>Rural</td>\n",
       "      <td>117297.62</td>\n",
       "      <td>39181.648002</td>\n",
       "    </tr>\n",
       "    <tr>\n",
       "      <th>3</th>\n",
       "      <td>M</td>\n",
       "      <td>65</td>\n",
       "      <td>2735.18</td>\n",
       "      <td>High</td>\n",
       "      <td>2747.18</td>\n",
       "      <td>Rural</td>\n",
       "      <td>354417.72</td>\n",
       "      <td>128497.710865</td>\n",
       "    </tr>\n",
       "    <tr>\n",
       "      <th>4</th>\n",
       "      <td>F</td>\n",
       "      <td>62</td>\n",
       "      <td>4741.78</td>\n",
       "      <td>High</td>\n",
       "      <td>4740.78</td>\n",
       "      <td>Urban</td>\n",
       "      <td>82049.80</td>\n",
       "      <td>39386.919336</td>\n",
       "    </tr>\n",
       "  </tbody>\n",
       "</table>\n",
       "</div>"
      ],
      "text/plain": [
       "  Gender  Age  Income (USD) Income Stability  Property Age Property Location  \\\n",
       "0      F   19       1641.25              Low       1651.25             Rural   \n",
       "1      M   29       1989.71              Low       1990.71             Urban   \n",
       "2      F   37       1849.91              Low       1856.91             Rural   \n",
       "3      M   65       2735.18             High       2747.18             Rural   \n",
       "4      F   62       4741.78             High       4740.78             Urban   \n",
       "\n",
       "   Property Price  Loan Sanction Amount (USD)  \n",
       "0        59641.82                21026.420753  \n",
       "1       179858.51                60595.183366  \n",
       "2       117297.62                39181.648002  \n",
       "3       354417.72               128497.710865  \n",
       "4        82049.80                39386.919336  "
      ]
     },
     "execution_count": 2,
     "metadata": {},
     "output_type": "execute_result"
    }
   ],
   "source": [
    "# đọc dữ liệu bằng pandas\n",
    "data = pd.read_csv('final_house_loan.csv')\n",
    "data.head()"
   ]
  },
  {
   "cell_type": "code",
   "execution_count": 3,
   "id": "0ea2c7f0",
   "metadata": {},
   "outputs": [
    {
     "data": {
      "text/html": [
       "<div>\n",
       "<style scoped>\n",
       "    .dataframe tbody tr th:only-of-type {\n",
       "        vertical-align: middle;\n",
       "    }\n",
       "\n",
       "    .dataframe tbody tr th {\n",
       "        vertical-align: top;\n",
       "    }\n",
       "\n",
       "    .dataframe thead th {\n",
       "        text-align: right;\n",
       "    }\n",
       "</style>\n",
       "<table border=\"1\" class=\"dataframe\">\n",
       "  <thead>\n",
       "    <tr style=\"text-align: right;\">\n",
       "      <th></th>\n",
       "      <th>Age</th>\n",
       "      <th>Income (USD)</th>\n",
       "      <th>Property Age</th>\n",
       "      <th>Property Price</th>\n",
       "      <th>Loan Sanction Amount (USD)</th>\n",
       "    </tr>\n",
       "  </thead>\n",
       "  <tbody>\n",
       "    <tr>\n",
       "      <th>count</th>\n",
       "      <td>47297.000000</td>\n",
       "      <td>47265.000000</td>\n",
       "      <td>47263.000000</td>\n",
       "      <td>4.729700e+04</td>\n",
       "      <td>47297.000000</td>\n",
       "    </tr>\n",
       "    <tr>\n",
       "      <th>mean</th>\n",
       "      <td>40.000063</td>\n",
       "      <td>2586.684384</td>\n",
       "      <td>2586.611058</td>\n",
       "      <td>1.350880e+05</td>\n",
       "      <td>46487.229765</td>\n",
       "    </tr>\n",
       "    <tr>\n",
       "      <th>std</th>\n",
       "      <td>16.086128</td>\n",
       "      <td>1558.768809</td>\n",
       "      <td>1558.842286</td>\n",
       "      <td>9.457875e+04</td>\n",
       "      <td>32549.905634</td>\n",
       "    </tr>\n",
       "    <tr>\n",
       "      <th>min</th>\n",
       "      <td>18.000000</td>\n",
       "      <td>372.700000</td>\n",
       "      <td>370.700000</td>\n",
       "      <td>7.859620e+03</td>\n",
       "      <td>254.586578</td>\n",
       "    </tr>\n",
       "    <tr>\n",
       "      <th>25%</th>\n",
       "      <td>24.000000</td>\n",
       "      <td>1653.740000</td>\n",
       "      <td>1652.820000</td>\n",
       "      <td>6.250408e+04</td>\n",
       "      <td>21782.822159</td>\n",
       "    </tr>\n",
       "    <tr>\n",
       "      <th>50%</th>\n",
       "      <td>40.000000</td>\n",
       "      <td>2245.480000</td>\n",
       "      <td>2244.810000</td>\n",
       "      <td>1.130936e+05</td>\n",
       "      <td>38822.132402</td>\n",
       "    </tr>\n",
       "    <tr>\n",
       "      <th>75%</th>\n",
       "      <td>55.000000</td>\n",
       "      <td>3128.560000</td>\n",
       "      <td>3128.380000</td>\n",
       "      <td>1.819546e+05</td>\n",
       "      <td>62612.236905</td>\n",
       "    </tr>\n",
       "    <tr>\n",
       "      <th>max</th>\n",
       "      <td>65.000000</td>\n",
       "      <td>54662.750000</td>\n",
       "      <td>54647.750000</td>\n",
       "      <td>1.077967e+06</td>\n",
       "      <td>366131.165218</td>\n",
       "    </tr>\n",
       "  </tbody>\n",
       "</table>\n",
       "</div>"
      ],
      "text/plain": [
       "                Age  Income (USD)  Property Age  Property Price  \\\n",
       "count  47297.000000  47265.000000  47263.000000    4.729700e+04   \n",
       "mean      40.000063   2586.684384   2586.611058    1.350880e+05   \n",
       "std       16.086128   1558.768809   1558.842286    9.457875e+04   \n",
       "min       18.000000    372.700000    370.700000    7.859620e+03   \n",
       "25%       24.000000   1653.740000   1652.820000    6.250408e+04   \n",
       "50%       40.000000   2245.480000   2244.810000    1.130936e+05   \n",
       "75%       55.000000   3128.560000   3128.380000    1.819546e+05   \n",
       "max       65.000000  54662.750000  54647.750000    1.077967e+06   \n",
       "\n",
       "       Loan Sanction Amount (USD)  \n",
       "count                47297.000000  \n",
       "mean                 46487.229765  \n",
       "std                  32549.905634  \n",
       "min                    254.586578  \n",
       "25%                  21782.822159  \n",
       "50%                  38822.132402  \n",
       "75%                  62612.236905  \n",
       "max                 366131.165218  "
      ]
     },
     "execution_count": 3,
     "metadata": {},
     "output_type": "execute_result"
    }
   ],
   "source": [
    "data.describe() # calculate count, mean, std, min, max and 25%, 75%, max"
   ]
  },
  {
   "cell_type": "markdown",
   "id": "23065a81",
   "metadata": {},
   "source": [
    "### Nhận xét:\n",
    "- Nhìn từ bảng số liệu ta thấy được giá ta thấy được mọi người thường vay mượn để mua nhà từ 18 tuổi trở lên với mức thu nhập bình quân từ 373 USD đến 54663 USD\n",
    "- Bên cạnh đó ta cũng có thể thấy được độ tuổi càng tăng thì thu nhập của tăng theo dẫn tới nhu cầu vay mượn mua nhà cũng được tăng theo và số tiền vay mượn cũng tăng theo.\n",
    "- Độ tuổi càng tăng thì giá trị của ngôi nhà cũng bị suy giảm theo."
   ]
  },
  {
   "cell_type": "code",
   "execution_count": 4,
   "id": "3b93a4a8",
   "metadata": {},
   "outputs": [
    {
     "data": {
      "text/plain": [
       "Index(['Gender', 'Age', 'Income (USD)', 'Income Stability', 'Property Age',\n",
       "       'Property Location', 'Property Price', 'Loan Sanction Amount (USD)'],\n",
       "      dtype='object')"
      ]
     },
     "execution_count": 4,
     "metadata": {},
     "output_type": "execute_result"
    }
   ],
   "source": [
    "data.columns #  display head name of each column"
   ]
  },
  {
   "cell_type": "code",
   "execution_count": 5,
   "id": "00665f88",
   "metadata": {},
   "outputs": [
    {
     "name": "stdout",
     "output_type": "stream",
     "text": [
      "<class 'pandas.core.frame.DataFrame'>\n",
      "RangeIndex: 47297 entries, 0 to 47296\n",
      "Data columns (total 8 columns):\n",
      " #   Column                      Non-Null Count  Dtype  \n",
      "---  ------                      --------------  -----  \n",
      " 0   Gender                      47297 non-null  object \n",
      " 1   Age                         47297 non-null  int64  \n",
      " 2   Income (USD)                47265 non-null  float64\n",
      " 3   Income Stability            47285 non-null  object \n",
      " 4   Property Age                47263 non-null  float64\n",
      " 5   Property Location           47294 non-null  object \n",
      " 6   Property Price              47297 non-null  float64\n",
      " 7   Loan Sanction Amount (USD)  47297 non-null  float64\n",
      "dtypes: float64(4), int64(1), object(3)\n",
      "memory usage: 2.9+ MB\n"
     ]
    }
   ],
   "source": [
    "data.info() # display type of each column"
   ]
  },
  {
   "cell_type": "code",
   "execution_count": 6,
   "id": "fc6cbd0e",
   "metadata": {},
   "outputs": [
    {
     "data": {
      "text/plain": [
       "<AxesSubplot:xlabel='Loan Sanction Amount (USD)', ylabel='Count'>"
      ]
     },
     "execution_count": 6,
     "metadata": {},
     "output_type": "execute_result"
    },
    {
     "data": {
      "image/png": "[encoded data removed]",
      "text/plain": [
       "<Figure size 432x288 with 1 Axes>"
      ]
     },
     "metadata": {
      "needs_background": "light"
     },
     "output_type": "display_data"
    }
   ],
   "source": [
    "# the graph compared to the amount loan sanction (usd) of the individual\n",
    "sns.histplot(x=\"Loan Sanction Amount (USD)\", data = data, bins = 100)"
   ]
  },
  {
   "cell_type": "markdown",
   "id": "5bc27f37",
   "metadata": {},
   "source": [
    "### Nhận xét:\n",
    "- Từ biểu đồ trên ta thấy được con số vay mượn dưới 50000 USD chiếm tỷ lệ lớn, nói cách khác là tỷ lệ mua nhà cao thường diễn ra ở tuổi của các bạn trẻ.\n",
    "- Càng về già thì nhu cầu của mua nhà của họ cũng giảm đi cho nên số lượng vay mượn càng giảm.\n",
    "- Mà số tiền vay mượn trên 100000 USD chỉ chiếm một phần nhỏ khoảng dưới 500, trong khi đó số tiền vay mượn dưới 50000 USD lại chiểm gấp 6 lần."
   ]
  },
  {
   "cell_type": "code",
   "execution_count": 7,
   "id": "6d4b9bf1",
   "metadata": {},
   "outputs": [
    {
     "data": {
      "text/plain": [
       "<AxesSubplot:xlabel='Income', ylabel='Count'>"
      ]
     },
     "execution_count": 7,
     "metadata": {},
     "output_type": "execute_result"
    },
    {
     "data": {
      "image/png": "[encoded data removed]",
      "text/plain": [
       "<Figure size 432x288 with 1 Axes>"
      ]
     },
     "metadata": {
      "needs_background": "light"
     },
     "output_type": "display_data"
    }
   ],
   "source": [
    "# rename Income(usd) to income in order to draw the bar graph easily\n",
    "# draw the histplot by seaborn of Income\n",
    "data.rename(columns = {\"Income (USD)\":\"Income\"}, inplace = True)\n",
    "sns.histplot(x=\"Income\", data = data, bins = 100) # với bins là số cột_chia 100 để đồ thị mịn hơn"
   ]
  },
  {
   "cell_type": "markdown",
   "id": "c4c5ff45",
   "metadata": {},
   "source": [
    "### Nhận xét:\n",
    "- Đa số những người vay mượn để mua nhà đều có mức lương khoảng dưới 10000 USD"
   ]
  },
  {
   "cell_type": "code",
   "execution_count": 8,
   "id": "3d16a266",
   "metadata": {},
   "outputs": [
    {
     "data": {
      "text/plain": [
       "Gender                         0\n",
       "Age                            0\n",
       "Income                        32\n",
       "Income Stability              12\n",
       "Property Age                  34\n",
       "Property Location              3\n",
       "Property Price                 0\n",
       "Loan Sanction Amount (USD)     0\n",
       "dtype: int64"
      ]
     },
     "execution_count": 8,
     "metadata": {},
     "output_type": "execute_result"
    }
   ],
   "source": [
    "data.isnull().sum() # returns the number of missing values in the dataset"
   ]
  },
  {
   "cell_type": "code",
   "execution_count": 10,
   "id": "e594d0b9",
   "metadata": {},
   "outputs": [
    {
     "data": {
      "text/html": [
       "<div>\n",
       "<style scoped>\n",
       "    .dataframe tbody tr th:only-of-type {\n",
       "        vertical-align: middle;\n",
       "    }\n",
       "\n",
       "    .dataframe tbody tr th {\n",
       "        vertical-align: top;\n",
       "    }\n",
       "\n",
       "    .dataframe thead th {\n",
       "        text-align: right;\n",
       "    }\n",
       "</style>\n",
       "<table border=\"1\" class=\"dataframe\">\n",
       "  <thead>\n",
       "    <tr style=\"text-align: right;\">\n",
       "      <th></th>\n",
       "      <th>Gender</th>\n",
       "      <th>Age</th>\n",
       "      <th>Income</th>\n",
       "      <th>Income Stability</th>\n",
       "      <th>Property Age</th>\n",
       "      <th>Property Location</th>\n",
       "      <th>Property Price</th>\n",
       "      <th>Loan Sanction Amount (USD)</th>\n",
       "    </tr>\n",
       "  </thead>\n",
       "  <tbody>\n",
       "    <tr>\n",
       "      <th>0</th>\n",
       "      <td>F</td>\n",
       "      <td>19</td>\n",
       "      <td>1641.25</td>\n",
       "      <td>Low</td>\n",
       "      <td>1651.25</td>\n",
       "      <td>Rural</td>\n",
       "      <td>59641.82</td>\n",
       "      <td>21026.420753</td>\n",
       "    </tr>\n",
       "    <tr>\n",
       "      <th>1</th>\n",
       "      <td>M</td>\n",
       "      <td>29</td>\n",
       "      <td>1989.71</td>\n",
       "      <td>Low</td>\n",
       "      <td>1990.71</td>\n",
       "      <td>Urban</td>\n",
       "      <td>179858.51</td>\n",
       "      <td>60595.183366</td>\n",
       "    </tr>\n",
       "    <tr>\n",
       "      <th>2</th>\n",
       "      <td>F</td>\n",
       "      <td>37</td>\n",
       "      <td>1849.91</td>\n",
       "      <td>Low</td>\n",
       "      <td>1856.91</td>\n",
       "      <td>Rural</td>\n",
       "      <td>117297.62</td>\n",
       "      <td>39181.648002</td>\n",
       "    </tr>\n",
       "    <tr>\n",
       "      <th>3</th>\n",
       "      <td>M</td>\n",
       "      <td>65</td>\n",
       "      <td>2735.18</td>\n",
       "      <td>High</td>\n",
       "      <td>2747.18</td>\n",
       "      <td>Rural</td>\n",
       "      <td>354417.72</td>\n",
       "      <td>128497.710865</td>\n",
       "    </tr>\n",
       "    <tr>\n",
       "      <th>4</th>\n",
       "      <td>F</td>\n",
       "      <td>62</td>\n",
       "      <td>4741.78</td>\n",
       "      <td>High</td>\n",
       "      <td>4740.78</td>\n",
       "      <td>Urban</td>\n",
       "      <td>82049.80</td>\n",
       "      <td>39386.919336</td>\n",
       "    </tr>\n",
       "    <tr>\n",
       "      <th>...</th>\n",
       "      <td>...</td>\n",
       "      <td>...</td>\n",
       "      <td>...</td>\n",
       "      <td>...</td>\n",
       "      <td>...</td>\n",
       "      <td>...</td>\n",
       "      <td>...</td>\n",
       "      <td>...</td>\n",
       "    </tr>\n",
       "    <tr>\n",
       "      <th>47292</th>\n",
       "      <td>F</td>\n",
       "      <td>62</td>\n",
       "      <td>2121.48</td>\n",
       "      <td>Low</td>\n",
       "      <td>2135.48</td>\n",
       "      <td>Rural</td>\n",
       "      <td>240291.63</td>\n",
       "      <td>78800.491330</td>\n",
       "    </tr>\n",
       "    <tr>\n",
       "      <th>47293</th>\n",
       "      <td>M</td>\n",
       "      <td>38</td>\n",
       "      <td>1506.72</td>\n",
       "      <td>Low</td>\n",
       "      <td>1505.72</td>\n",
       "      <td>Rural</td>\n",
       "      <td>218431.37</td>\n",
       "      <td>72483.293359</td>\n",
       "    </tr>\n",
       "    <tr>\n",
       "      <th>47294</th>\n",
       "      <td>F</td>\n",
       "      <td>20</td>\n",
       "      <td>1595.10</td>\n",
       "      <td>Low</td>\n",
       "      <td>1582.10</td>\n",
       "      <td>Semi-Urban</td>\n",
       "      <td>154458.88</td>\n",
       "      <td>52462.861498</td>\n",
       "    </tr>\n",
       "    <tr>\n",
       "      <th>47295</th>\n",
       "      <td>F</td>\n",
       "      <td>50</td>\n",
       "      <td>2002.27</td>\n",
       "      <td>Low</td>\n",
       "      <td>2007.27</td>\n",
       "      <td>Semi-Urban</td>\n",
       "      <td>72277.78</td>\n",
       "      <td>22909.596763</td>\n",
       "    </tr>\n",
       "    <tr>\n",
       "      <th>47296</th>\n",
       "      <td>F</td>\n",
       "      <td>46</td>\n",
       "      <td>492.91</td>\n",
       "      <td>Low</td>\n",
       "      <td>497.91</td>\n",
       "      <td>Rural</td>\n",
       "      <td>24597.61</td>\n",
       "      <td>5941.989388</td>\n",
       "    </tr>\n",
       "  </tbody>\n",
       "</table>\n",
       "<p>47297 rows × 8 columns</p>\n",
       "</div>"
      ],
      "text/plain": [
       "      Gender  Age   Income Income Stability  Property Age Property Location  \\\n",
       "0          F   19  1641.25              Low       1651.25             Rural   \n",
       "1          M   29  1989.71              Low       1990.71             Urban   \n",
       "2          F   37  1849.91              Low       1856.91             Rural   \n",
       "3          M   65  2735.18             High       2747.18             Rural   \n",
       "4          F   62  4741.78             High       4740.78             Urban   \n",
       "...      ...  ...      ...              ...           ...               ...   \n",
       "47292      F   62  2121.48              Low       2135.48             Rural   \n",
       "47293      M   38  1506.72              Low       1505.72             Rural   \n",
       "47294      F   20  1595.10              Low       1582.10        Semi-Urban   \n",
       "47295      F   50  2002.27              Low       2007.27        Semi-Urban   \n",
       "47296      F   46   492.91              Low        497.91             Rural   \n",
       "\n",
       "       Property Price  Loan Sanction Amount (USD)  \n",
       "0            59641.82                21026.420753  \n",
       "1           179858.51                60595.183366  \n",
       "2           117297.62                39181.648002  \n",
       "3           354417.72               128497.710865  \n",
       "4            82049.80                39386.919336  \n",
       "...               ...                         ...  \n",
       "47292       240291.63                78800.491330  \n",
       "47293       218431.37                72483.293359  \n",
       "47294       154458.88                52462.861498  \n",
       "47295        72277.78                22909.596763  \n",
       "47296        24597.61                 5941.989388  \n",
       "\n",
       "[47297 rows x 8 columns]"
      ]
     },
     "execution_count": 10,
     "metadata": {},
     "output_type": "execute_result"
    }
   ],
   "source": [
    "data.fillna(1) # fill missing values by 1"
   ]
  },
  {
   "cell_type": "code",
   "execution_count": 11,
   "id": "afbbb788",
   "metadata": {},
   "outputs": [
    {
     "name": "stdout",
     "output_type": "stream",
     "text": [
      "the amount of data above drops na :  47297\n"
     ]
    }
   ],
   "source": [
    "print(\"the amount of data above drops na : \", len(data)) # find the number of data before drop "
   ]
  },
  {
   "cell_type": "code",
   "execution_count": 12,
   "id": "480124b6",
   "metadata": {},
   "outputs": [
    {
     "name": "stdout",
     "output_type": "stream",
     "text": [
      "the amount of data after drops na :  47251\n"
     ]
    }
   ],
   "source": [
    "data = data.dropna() # drop  all Na\n",
    "print(\"the amount of data after drops na : \", len(data)) # display the number of data after drop"
   ]
  },
  {
   "cell_type": "code",
   "execution_count": 65,
   "id": "c0d5a968",
   "metadata": {},
   "outputs": [
    {
     "data": {
      "text/plain": [
       "<AxesSubplot:>"
      ]
     },
     "execution_count": 65,
     "metadata": {},
     "output_type": "execute_result"
    },
    {
     "data": {
      "image/png": "[encoded data removed]",
      "text/plain": [
       "<Figure size 1800x720 with 2 Axes>"
      ]
     },
     "metadata": {
      "needs_background": "light"
     },
     "output_type": "display_data"
    }
   ],
   "source": [
    "import missingno as msno ### cài đặt hàm cần dùng\n",
    "msno.matrix(data) ### trực quan hóa dữ liệu"
   ]
  },
  {
   "cell_type": "markdown",
   "id": "cfe273bb",
   "metadata": {},
   "source": [
    "### Nhận xét:\n",
    "- Dữ liệu ở các cột hiện tại không còn giá trị khuyết"
   ]
  },
  {
   "cell_type": "code",
   "execution_count": 13,
   "id": "cd383308",
   "metadata": {},
   "outputs": [
    {
     "data": {
      "text/plain": [
       "<AxesSubplot:ylabel='Gender'>"
      ]
     },
     "execution_count": 13,
     "metadata": {},
     "output_type": "execute_result"
    },
    {
     "data": {
      "image/png": "[encoded data removed]",
      "text/plain": [
       "<Figure size 432x288 with 1 Axes>"
      ]
     },
     "metadata": {},
     "output_type": "display_data"
    }
   ],
   "source": [
    "# draw the pie plot compare to 2 genres who loan buy housing\n",
    "data.Gender.value_counts().plot(kind='pie',autopct=\"%1.1f%%\") "
   ]
  },
  {
   "cell_type": "markdown",
   "id": "2f407fb9",
   "metadata": {},
   "source": [
    "### Nhận xét:\n",
    "- Tỷ lệ nam nữ mua nhà bằng nhau, do đó có thể thấy rằng nhu cầu mua nhà là điều cần thiết ở cả nam và nữ."
   ]
  },
  {
   "cell_type": "code",
   "execution_count": 14,
   "id": "95973b52",
   "metadata": {},
   "outputs": [
    {
     "data": {
      "text/plain": [
       "Low     43045\n",
       "High     4206\n",
       "Name: Income Stability, dtype: int64"
      ]
     },
     "execution_count": 14,
     "metadata": {},
     "output_type": "execute_result"
    }
   ],
   "source": [
    "# staticsfied the values of Income Stability\n",
    "data['Income Stability'].value_counts()"
   ]
  },
  {
   "cell_type": "code",
   "execution_count": 15,
   "id": "5f4cd922",
   "metadata": {},
   "outputs": [],
   "source": [
    "# rename two column \"Property Location\" and \"Income Stability\" to draw the graph easily\n",
    "data.rename(columns = {\"Property Location\":\"Location\"}, inplace = True)\n",
    "data.rename(columns = {\"Income Stability\":\"IncomeStability\"}, inplace = True)"
   ]
  },
  {
   "cell_type": "code",
   "execution_count": 16,
   "id": "de811400",
   "metadata": {},
   "outputs": [
    {
     "data": {
      "text/plain": [
       "<AxesSubplot:ylabel='IncomeStability'>"
      ]
     },
     "execution_count": 16,
     "metadata": {},
     "output_type": "execute_result"
    },
    {
     "data": {
      "image/png": "[encoded data removed]",
      "text/plain": [
       "<Figure size 432x288 with 1 Axes>"
      ]
     },
     "metadata": {},
     "output_type": "display_data"
    }
   ],
   "source": [
    "# staticsfied between the high and low of \"IncomeStability\"\n",
    "data.IncomeStability.value_counts().plot(kind='pie',autopct=\"%1.1f%%\") "
   ]
  },
  {
   "cell_type": "markdown",
   "id": "9a273885",
   "metadata": {},
   "source": [
    "### Nhận xét:\n",
    "- Những người vay mượn mua nhà mà có mức lương thấp chiếm tỉ lệ phần trắm cao hơn những người vay mượn mua nhà có mức lương cao."
   ]
  },
  {
   "cell_type": "code",
   "execution_count": 17,
   "id": "5cf341ad",
   "metadata": {},
   "outputs": [
    {
     "data": {
      "text/plain": [
       "<AxesSubplot:ylabel='Location'>"
      ]
     },
     "execution_count": 17,
     "metadata": {},
     "output_type": "execute_result"
    },
    {
     "data": {
      "image/png": "[encoded data removed]",
      "text/plain": [
       "<Figure size 432x288 with 1 Axes>"
      ]
     },
     "metadata": {},
     "output_type": "display_data"
    }
   ],
   "source": [
    "# staticsfied between the high and low of \"Location\"\n",
    "data.Location.value_counts().plot(kind='pie',autopct=\"%1.1f%%\") "
   ]
  },
  {
   "cell_type": "markdown",
   "id": "804be8e5",
   "metadata": {},
   "source": [
    "### Nhận xét:\n",
    "- Từ hình thống kê ta thấy được đa số những người vay mượn mua được phân bố tương đối đều ở ba vùng \"Urban\", \"Semi-Urban\", \"Rural\", tuy nhiên trong đó Semi - Urban chiếm tỷ lệ cao nhất."
   ]
  },
  {
   "cell_type": "code",
   "execution_count": 18,
   "id": "333542bb",
   "metadata": {},
   "outputs": [
    {
     "data": {
      "text/html": [
       "<div>\n",
       "<style scoped>\n",
       "    .dataframe tbody tr th:only-of-type {\n",
       "        vertical-align: middle;\n",
       "    }\n",
       "\n",
       "    .dataframe tbody tr th {\n",
       "        vertical-align: top;\n",
       "    }\n",
       "\n",
       "    .dataframe thead th {\n",
       "        text-align: right;\n",
       "    }\n",
       "</style>\n",
       "<table border=\"1\" class=\"dataframe\">\n",
       "  <thead>\n",
       "    <tr style=\"text-align: right;\">\n",
       "      <th></th>\n",
       "      <th>Gender</th>\n",
       "      <th>Age</th>\n",
       "      <th>Income</th>\n",
       "      <th>IncomeStability</th>\n",
       "      <th>Property Age</th>\n",
       "      <th>Location</th>\n",
       "      <th>Property Price</th>\n",
       "      <th>Loan Sanction Amount (USD)</th>\n",
       "    </tr>\n",
       "  </thead>\n",
       "  <tbody>\n",
       "    <tr>\n",
       "      <th>0</th>\n",
       "      <td>1</td>\n",
       "      <td>19</td>\n",
       "      <td>1641.25</td>\n",
       "      <td>1</td>\n",
       "      <td>1651.25</td>\n",
       "      <td>Rural</td>\n",
       "      <td>59641.82</td>\n",
       "      <td>21026.420753</td>\n",
       "    </tr>\n",
       "    <tr>\n",
       "      <th>1</th>\n",
       "      <td>0</td>\n",
       "      <td>29</td>\n",
       "      <td>1989.71</td>\n",
       "      <td>1</td>\n",
       "      <td>1990.71</td>\n",
       "      <td>Urban</td>\n",
       "      <td>179858.51</td>\n",
       "      <td>60595.183366</td>\n",
       "    </tr>\n",
       "    <tr>\n",
       "      <th>2</th>\n",
       "      <td>1</td>\n",
       "      <td>37</td>\n",
       "      <td>1849.91</td>\n",
       "      <td>1</td>\n",
       "      <td>1856.91</td>\n",
       "      <td>Rural</td>\n",
       "      <td>117297.62</td>\n",
       "      <td>39181.648002</td>\n",
       "    </tr>\n",
       "    <tr>\n",
       "      <th>3</th>\n",
       "      <td>0</td>\n",
       "      <td>65</td>\n",
       "      <td>2735.18</td>\n",
       "      <td>2</td>\n",
       "      <td>2747.18</td>\n",
       "      <td>Rural</td>\n",
       "      <td>354417.72</td>\n",
       "      <td>128497.710865</td>\n",
       "    </tr>\n",
       "    <tr>\n",
       "      <th>4</th>\n",
       "      <td>1</td>\n",
       "      <td>62</td>\n",
       "      <td>4741.78</td>\n",
       "      <td>2</td>\n",
       "      <td>4740.78</td>\n",
       "      <td>Urban</td>\n",
       "      <td>82049.80</td>\n",
       "      <td>39386.919336</td>\n",
       "    </tr>\n",
       "    <tr>\n",
       "      <th>...</th>\n",
       "      <td>...</td>\n",
       "      <td>...</td>\n",
       "      <td>...</td>\n",
       "      <td>...</td>\n",
       "      <td>...</td>\n",
       "      <td>...</td>\n",
       "      <td>...</td>\n",
       "      <td>...</td>\n",
       "    </tr>\n",
       "    <tr>\n",
       "      <th>47292</th>\n",
       "      <td>1</td>\n",
       "      <td>62</td>\n",
       "      <td>2121.48</td>\n",
       "      <td>1</td>\n",
       "      <td>2135.48</td>\n",
       "      <td>Rural</td>\n",
       "      <td>240291.63</td>\n",
       "      <td>78800.491330</td>\n",
       "    </tr>\n",
       "    <tr>\n",
       "      <th>47293</th>\n",
       "      <td>0</td>\n",
       "      <td>38</td>\n",
       "      <td>1506.72</td>\n",
       "      <td>1</td>\n",
       "      <td>1505.72</td>\n",
       "      <td>Rural</td>\n",
       "      <td>218431.37</td>\n",
       "      <td>72483.293359</td>\n",
       "    </tr>\n",
       "    <tr>\n",
       "      <th>47294</th>\n",
       "      <td>1</td>\n",
       "      <td>20</td>\n",
       "      <td>1595.10</td>\n",
       "      <td>1</td>\n",
       "      <td>1582.10</td>\n",
       "      <td>Semi-Urban</td>\n",
       "      <td>154458.88</td>\n",
       "      <td>52462.861498</td>\n",
       "    </tr>\n",
       "    <tr>\n",
       "      <th>47295</th>\n",
       "      <td>1</td>\n",
       "      <td>50</td>\n",
       "      <td>2002.27</td>\n",
       "      <td>1</td>\n",
       "      <td>2007.27</td>\n",
       "      <td>Semi-Urban</td>\n",
       "      <td>72277.78</td>\n",
       "      <td>22909.596763</td>\n",
       "    </tr>\n",
       "    <tr>\n",
       "      <th>47296</th>\n",
       "      <td>1</td>\n",
       "      <td>46</td>\n",
       "      <td>492.91</td>\n",
       "      <td>1</td>\n",
       "      <td>497.91</td>\n",
       "      <td>Rural</td>\n",
       "      <td>24597.61</td>\n",
       "      <td>5941.989388</td>\n",
       "    </tr>\n",
       "  </tbody>\n",
       "</table>\n",
       "<p>47251 rows × 8 columns</p>\n",
       "</div>"
      ],
      "text/plain": [
       "       Gender  Age   Income  IncomeStability  Property Age    Location  \\\n",
       "0           1   19  1641.25                1       1651.25       Rural   \n",
       "1           0   29  1989.71                1       1990.71       Urban   \n",
       "2           1   37  1849.91                1       1856.91       Rural   \n",
       "3           0   65  2735.18                2       2747.18       Rural   \n",
       "4           1   62  4741.78                2       4740.78       Urban   \n",
       "...       ...  ...      ...              ...           ...         ...   \n",
       "47292       1   62  2121.48                1       2135.48       Rural   \n",
       "47293       0   38  1506.72                1       1505.72       Rural   \n",
       "47294       1   20  1595.10                1       1582.10  Semi-Urban   \n",
       "47295       1   50  2002.27                1       2007.27  Semi-Urban   \n",
       "47296       1   46   492.91                1        497.91       Rural   \n",
       "\n",
       "       Property Price  Loan Sanction Amount (USD)  \n",
       "0            59641.82                21026.420753  \n",
       "1           179858.51                60595.183366  \n",
       "2           117297.62                39181.648002  \n",
       "3           354417.72               128497.710865  \n",
       "4            82049.80                39386.919336  \n",
       "...               ...                         ...  \n",
       "47292       240291.63                78800.491330  \n",
       "47293       218431.37                72483.293359  \n",
       "47294       154458.88                52462.861498  \n",
       "47295        72277.78                22909.596763  \n",
       "47296        24597.61                 5941.989388  \n",
       "\n",
       "[47251 rows x 8 columns]"
      ]
     },
     "execution_count": 18,
     "metadata": {},
     "output_type": "execute_result"
    }
   ],
   "source": [
    "# Normalized data\n",
    "norm_data = data.copy()\n",
    "norm_data[\"Gender\"] = norm_data[\"Gender\"].apply(lambda x:0 if x=='M'else 1)\n",
    "norm_data[\"IncomeStability\"] = norm_data[\"IncomeStability\"].apply(lambda x: 1 if x==\"Low\" else 2)\n",
    "norm_data"
   ]
  },
  {
   "cell_type": "code",
   "execution_count": 19,
   "id": "72d069a3",
   "metadata": {},
   "outputs": [
    {
     "data": {
      "text/html": [
       "<div>\n",
       "<style scoped>\n",
       "    .dataframe tbody tr th:only-of-type {\n",
       "        vertical-align: middle;\n",
       "    }\n",
       "\n",
       "    .dataframe tbody tr th {\n",
       "        vertical-align: top;\n",
       "    }\n",
       "\n",
       "    .dataframe thead th {\n",
       "        text-align: right;\n",
       "    }\n",
       "</style>\n",
       "<table border=\"1\" class=\"dataframe\">\n",
       "  <thead>\n",
       "    <tr style=\"text-align: right;\">\n",
       "      <th></th>\n",
       "      <th>Gender</th>\n",
       "      <th>Age</th>\n",
       "      <th>Income</th>\n",
       "      <th>IncomeStability</th>\n",
       "      <th>Property Age</th>\n",
       "      <th>Location</th>\n",
       "      <th>Property Price</th>\n",
       "      <th>Loan Sanction Amount (USD)</th>\n",
       "    </tr>\n",
       "  </thead>\n",
       "  <tbody>\n",
       "    <tr>\n",
       "      <th>0</th>\n",
       "      <td>F</td>\n",
       "      <td>19</td>\n",
       "      <td>1641.25</td>\n",
       "      <td>Low</td>\n",
       "      <td>1651.25</td>\n",
       "      <td>1</td>\n",
       "      <td>59641.82</td>\n",
       "      <td>21026.420753</td>\n",
       "    </tr>\n",
       "    <tr>\n",
       "      <th>1</th>\n",
       "      <td>M</td>\n",
       "      <td>29</td>\n",
       "      <td>1989.71</td>\n",
       "      <td>Low</td>\n",
       "      <td>1990.71</td>\n",
       "      <td>2</td>\n",
       "      <td>179858.51</td>\n",
       "      <td>60595.183366</td>\n",
       "    </tr>\n",
       "    <tr>\n",
       "      <th>2</th>\n",
       "      <td>F</td>\n",
       "      <td>37</td>\n",
       "      <td>1849.91</td>\n",
       "      <td>Low</td>\n",
       "      <td>1856.91</td>\n",
       "      <td>1</td>\n",
       "      <td>117297.62</td>\n",
       "      <td>39181.648002</td>\n",
       "    </tr>\n",
       "    <tr>\n",
       "      <th>3</th>\n",
       "      <td>M</td>\n",
       "      <td>65</td>\n",
       "      <td>2735.18</td>\n",
       "      <td>High</td>\n",
       "      <td>2747.18</td>\n",
       "      <td>1</td>\n",
       "      <td>354417.72</td>\n",
       "      <td>128497.710865</td>\n",
       "    </tr>\n",
       "    <tr>\n",
       "      <th>4</th>\n",
       "      <td>F</td>\n",
       "      <td>62</td>\n",
       "      <td>4741.78</td>\n",
       "      <td>High</td>\n",
       "      <td>4740.78</td>\n",
       "      <td>2</td>\n",
       "      <td>82049.80</td>\n",
       "      <td>39386.919336</td>\n",
       "    </tr>\n",
       "  </tbody>\n",
       "</table>\n",
       "</div>"
      ],
      "text/plain": [
       "  Gender  Age   Income IncomeStability  Property Age  Location  \\\n",
       "0      F   19  1641.25             Low       1651.25         1   \n",
       "1      M   29  1989.71             Low       1990.71         2   \n",
       "2      F   37  1849.91             Low       1856.91         1   \n",
       "3      M   65  2735.18            High       2747.18         1   \n",
       "4      F   62  4741.78            High       4740.78         2   \n",
       "\n",
       "   Property Price  Loan Sanction Amount (USD)  \n",
       "0        59641.82                21026.420753  \n",
       "1       179858.51                60595.183366  \n",
       "2       117297.62                39181.648002  \n",
       "3       354417.72               128497.710865  \n",
       "4        82049.80                39386.919336  "
      ]
     },
     "execution_count": 19,
     "metadata": {},
     "output_type": "execute_result"
    }
   ],
   "source": [
    "# mapping cathegorial to numerical\n",
    "location_mapping = {\n",
    "    'Rural' : 1,\n",
    "    'Urban' : 2,\n",
    "    'Semi-Urban' :3}\n",
    "data['Location'] = data['Location'].map(location_mapping)\n",
    "data.head()"
   ]
  },
  {
   "cell_type": "markdown",
   "id": "f95da4d9",
   "metadata": {},
   "source": [
    "### Công thức Correlation coefficient\n",
    "    r = (nΣXY - ΣXΣY) / sqrt((nΣX^2 - (ΣX)^2)(nΣY^2 - (ΣY)^2))\n",
    " - trong đó : r là correlation coefficient giữa hai biến X và Y.\n",
    "              n là tổng số lượng quan sát.\n",
    "              ΣXY là tổng của tích giá trị X và Y tương ứng.\n",
    "              ΣX và ΣY lần lượt là tổng các giá trị của biến X và Y.\n",
    "              ΣX^2 và ΣY^2 lần lượt là tổng bình phương các giá trị của biến X và Y."
   ]
  },
  {
   "cell_type": "code",
   "execution_count": 20,
   "id": "1ffaa295",
   "metadata": {},
   "outputs": [
    {
     "data": {
      "text/html": [
       "<div>\n",
       "<style scoped>\n",
       "    .dataframe tbody tr th:only-of-type {\n",
       "        vertical-align: middle;\n",
       "    }\n",
       "\n",
       "    .dataframe tbody tr th {\n",
       "        vertical-align: top;\n",
       "    }\n",
       "\n",
       "    .dataframe thead th {\n",
       "        text-align: right;\n",
       "    }\n",
       "</style>\n",
       "<table border=\"1\" class=\"dataframe\">\n",
       "  <thead>\n",
       "    <tr style=\"text-align: right;\">\n",
       "      <th></th>\n",
       "      <th>Gender</th>\n",
       "      <th>Age</th>\n",
       "      <th>Income</th>\n",
       "      <th>IncomeStability</th>\n",
       "      <th>Property Age</th>\n",
       "      <th>Property Price</th>\n",
       "      <th>Loan Sanction Amount (USD)</th>\n",
       "    </tr>\n",
       "  </thead>\n",
       "  <tbody>\n",
       "    <tr>\n",
       "      <th>Gender</th>\n",
       "      <td>1.000000</td>\n",
       "      <td>-0.007706</td>\n",
       "      <td>0.002445</td>\n",
       "      <td>-0.019000</td>\n",
       "      <td>0.002512</td>\n",
       "      <td>-0.005931</td>\n",
       "      <td>-0.003396</td>\n",
       "    </tr>\n",
       "    <tr>\n",
       "      <th>Age</th>\n",
       "      <td>-0.007706</td>\n",
       "      <td>1.000000</td>\n",
       "      <td>-0.044086</td>\n",
       "      <td>0.455855</td>\n",
       "      <td>-0.044085</td>\n",
       "      <td>-0.003274</td>\n",
       "      <td>-0.000115</td>\n",
       "    </tr>\n",
       "    <tr>\n",
       "      <th>Income</th>\n",
       "      <td>0.002445</td>\n",
       "      <td>-0.044086</td>\n",
       "      <td>1.000000</td>\n",
       "      <td>-0.080961</td>\n",
       "      <td>0.999986</td>\n",
       "      <td>0.358110</td>\n",
       "      <td>0.392897</td>\n",
       "    </tr>\n",
       "    <tr>\n",
       "      <th>IncomeStability</th>\n",
       "      <td>-0.019000</td>\n",
       "      <td>0.455855</td>\n",
       "      <td>-0.080961</td>\n",
       "      <td>1.000000</td>\n",
       "      <td>-0.081008</td>\n",
       "      <td>-0.004813</td>\n",
       "      <td>0.070969</td>\n",
       "    </tr>\n",
       "    <tr>\n",
       "      <th>Property Age</th>\n",
       "      <td>0.002512</td>\n",
       "      <td>-0.044085</td>\n",
       "      <td>0.999986</td>\n",
       "      <td>-0.081008</td>\n",
       "      <td>1.000000</td>\n",
       "      <td>0.358110</td>\n",
       "      <td>0.392892</td>\n",
       "    </tr>\n",
       "    <tr>\n",
       "      <th>Property Price</th>\n",
       "      <td>-0.005931</td>\n",
       "      <td>-0.003274</td>\n",
       "      <td>0.358110</td>\n",
       "      <td>-0.004813</td>\n",
       "      <td>0.358110</td>\n",
       "      <td>1.000000</td>\n",
       "      <td>0.994429</td>\n",
       "    </tr>\n",
       "    <tr>\n",
       "      <th>Loan Sanction Amount (USD)</th>\n",
       "      <td>-0.003396</td>\n",
       "      <td>-0.000115</td>\n",
       "      <td>0.392897</td>\n",
       "      <td>0.070969</td>\n",
       "      <td>0.392892</td>\n",
       "      <td>0.994429</td>\n",
       "      <td>1.000000</td>\n",
       "    </tr>\n",
       "  </tbody>\n",
       "</table>\n",
       "</div>"
      ],
      "text/plain": [
       "                              Gender       Age    Income  IncomeStability  \\\n",
       "Gender                      1.000000 -0.007706  0.002445        -0.019000   \n",
       "Age                        -0.007706  1.000000 -0.044086         0.455855   \n",
       "Income                      0.002445 -0.044086  1.000000        -0.080961   \n",
       "IncomeStability            -0.019000  0.455855 -0.080961         1.000000   \n",
       "Property Age                0.002512 -0.044085  0.999986        -0.081008   \n",
       "Property Price             -0.005931 -0.003274  0.358110        -0.004813   \n",
       "Loan Sanction Amount (USD) -0.003396 -0.000115  0.392897         0.070969   \n",
       "\n",
       "                            Property Age  Property Price  \\\n",
       "Gender                          0.002512       -0.005931   \n",
       "Age                            -0.044085       -0.003274   \n",
       "Income                          0.999986        0.358110   \n",
       "IncomeStability                -0.081008       -0.004813   \n",
       "Property Age                    1.000000        0.358110   \n",
       "Property Price                  0.358110        1.000000   \n",
       "Loan Sanction Amount (USD)      0.392892        0.994429   \n",
       "\n",
       "                            Loan Sanction Amount (USD)  \n",
       "Gender                                       -0.003396  \n",
       "Age                                          -0.000115  \n",
       "Income                                        0.392897  \n",
       "IncomeStability                               0.070969  \n",
       "Property Age                                  0.392892  \n",
       "Property Price                                0.994429  \n",
       "Loan Sanction Amount (USD)                    1.000000  "
      ]
     },
     "execution_count": 20,
     "metadata": {},
     "output_type": "execute_result"
    }
   ],
   "source": [
    "# Correlation\n",
    "norm_data.corr()"
   ]
  },
  {
   "cell_type": "code",
   "execution_count": 21,
   "id": "3c6a7e0f",
   "metadata": {},
   "outputs": [
    {
     "data": {
      "text/plain": [
       "<AxesSubplot:>"
      ]
     },
     "execution_count": 21,
     "metadata": {},
     "output_type": "execute_result"
    },
    {
     "data": {
      "image/png": "[encoded data removed]",
      "text/plain": [
       "<Figure size 432x288 with 2 Axes>"
      ]
     },
     "metadata": {
      "needs_background": "light"
     },
     "output_type": "display_data"
    }
   ],
   "source": [
    "# Draw the heatmap of correlation\n",
    "sns.heatmap(data.corr())"
   ]
  },
  {
   "cell_type": "code",
   "execution_count": 22,
   "id": "b748e023",
   "metadata": {},
   "outputs": [],
   "source": [
    "# Split X, y from dataset\n",
    "columns = norm_data.columns.tolist()    \n",
    "columns.remove('Gender')\n",
    "columns.remove('Location')          \n",
    "feature_data = norm_data[columns]        \n",
    "target_data = norm_data.Gender"
   ]
  },
  {
   "cell_type": "code",
   "execution_count": 23,
   "id": "9ec740f8",
   "metadata": {},
   "outputs": [],
   "source": [
    "# Khai báo hàm thư viện\n",
    "from sklearn.model_selection import train_test_split"
   ]
  },
  {
   "cell_type": "code",
   "execution_count": 24,
   "id": "2540b1c9",
   "metadata": {},
   "outputs": [],
   "source": [
    "# Training X, Y and Test X,Y\n",
    "X_train, X_test ,Y_train, Y_test = train_test_split(feature_data, target_data, train_size=0.75, random_state=30)"
   ]
  },
  {
   "cell_type": "code",
   "execution_count": 25,
   "id": "18393a58",
   "metadata": {},
   "outputs": [
    {
     "name": "stdout",
     "output_type": "stream",
     "text": [
      "Training of X:  (35438, 6)\n"
     ]
    }
   ],
   "source": [
    "# Display get the current shape of training array\n",
    "print('Training of X: ',X_train.shape)"
   ]
  },
  {
   "cell_type": "code",
   "execution_count": 26,
   "id": "60ef1c15",
   "metadata": {},
   "outputs": [
    {
     "name": "stdout",
     "output_type": "stream",
     "text": [
      "Test of X:  (11813, 6)\n"
     ]
    }
   ],
   "source": [
    "# display get the current shape of test array\n",
    "print('Test of X: ',X_test.shape)"
   ]
  },
  {
   "cell_type": "markdown",
   "id": "b0182318",
   "metadata": {},
   "source": [
    "## Step to linear regression:\n",
    "1. import the required libraries\n",
    "4. split the data into training and testing sets\n",
    "5. create an instance of the linear regression class\n",
    "6. make predictions using the test data\n",
    "7. evaluate the performance of the model"
   ]
  },
  {
   "cell_type": "code",
   "execution_count": 27,
   "id": "d73a5c04",
   "metadata": {},
   "outputs": [],
   "source": [
    "# khai báo hàm thư viện để import LinearRegression\n",
    "from sklearn.linear_model import LinearRegression\n",
    "model = LinearRegression(fit_intercept=True)    "
   ]
  },
  {
   "cell_type": "markdown",
   "id": "cc1a7b8a",
   "metadata": {},
   "source": [
    "model_lr.fir(X_train, Y_train)"
   ]
  },
  {
   "cell_type": "code",
   "execution_count": 28,
   "id": "7addec48",
   "metadata": {},
   "outputs": [
    {
     "data": {
      "text/plain": [
       "LinearRegression()"
      ]
     },
     "execution_count": 28,
     "metadata": {},
     "output_type": "execute_result"
    }
   ],
   "source": [
    "# fit trining X,Y\n",
    "model.fit(X_train, Y_train)"
   ]
  },
  {
   "cell_type": "code",
   "execution_count": 29,
   "id": "8189747d",
   "metadata": {},
   "outputs": [
    {
     "name": "stdout",
     "output_type": "stream",
     "text": [
      "[ 2.15199483e-03 -5.87055508e-04 -3.43271165e-01  5.60471068e-04\n",
      " -9.22123642e-06  2.72336384e-05]\n",
      "\n",
      "0.8381415048297605\n"
     ]
    }
   ],
   "source": [
    "# print coefficient\n",
    "print(model.coef_ ) \n",
    "print()\n",
    "print(model.intercept_) # print intercept_"
   ]
  },
  {
   "cell_type": "code",
   "execution_count": 41,
   "id": "50743178",
   "metadata": {},
   "outputs": [],
   "source": [
    "from sklearn.metrics import mean_absolute_error # Khai báo hàm thư viện"
   ]
  },
  {
   "cell_type": "code",
   "execution_count": 45,
   "id": "193dfccd",
   "metadata": {},
   "outputs": [
    {
     "data": {
      "text/plain": [
       "0.49718036564106177"
      ]
     },
     "execution_count": 45,
     "metadata": {},
     "output_type": "execute_result"
    }
   ],
   "source": [
    "prediction = model.predict(X_test) # dự đoán\n",
    "mae = mean_absolute_error(y_pred=prediction, y_true=Y_test) # tính mae \n",
    "mae"
   ]
  },
  {
   "cell_type": "markdown",
   "id": "3f79784a",
   "metadata": {},
   "source": [
    "5. Learn on sklearn how to use Ridge, Lasso, and ElasticNet compare the error of all 3 algorithms with Linear Regression (https://scikit-learn.org/stable/index.html)"
   ]
  },
  {
   "cell_type": "markdown",
   "id": "32598cd9",
   "metadata": {},
   "source": [
    "### The Ridge function\n",
    "minimize: ||Y - Xβ||^2 + α||β||^2\n",
    "\n",
    "- Y : là vector của giá trị thực tế\n",
    "- X: là ma trận của biến dự đoán\n",
    "- β: hệ số của vector được dự đoán\n",
    "- α là một siêu tham số bị kiểm soát bởi strength của regularization penalty\n",
    "\n",
    "### The Lasso function\n",
    "minimize: ||Y - Xβ||^2 + α||β||\n",
    "\n",
    "- Y : là vector của giá trị thực tế\n",
    "- X: là ma trận của biến dự đoán\n",
    "- β: hệ số của vector được dự đoán\n",
    "- α là một siêu tham số bị kiểm soát bởi strength của regularization penalty\n",
    "\n",
    "\n",
    "### The ElasticNet function\n",
    "\n",
    "minimize: ||Y - Xβ||^2 + αλ||β|| + (1 - α)λ||β||^2\n",
    "\n",
    "- Y : là vector của giá trị thực tế\n",
    "- X: là ma trận của biến dự đoán\n",
    "- β: hệ số của vector được dự đoán\n",
    "- α là một siêu tham số bị kiểm soát giữa L1 và L2 \n",
    "- λ : kiểm soát mức độ chuẩn hóa của regularization penalty"
   ]
  },
  {
   "cell_type": "code",
   "execution_count": 31,
   "id": "2d86fc4e",
   "metadata": {},
   "outputs": [],
   "source": [
    "# khai báo các hàm thư viện cần dùng\n",
    "from sklearn.linear_model import Ridge\n",
    "from sklearn.model_selection import train_test_split\n",
    "from sklearn.metrics import mean_squared_error\n",
    "from sklearn.linear_model import Lasso\n",
    "from sklearn.linear_model import ElasticNet\n",
    "from sklearn.preprocessing import PolynomialFeatures"
   ]
  },
  {
   "cell_type": "code",
   "execution_count": 32,
   "id": "c40a5eca",
   "metadata": {},
   "outputs": [
    {
     "name": "stdout",
     "output_type": "stream",
     "text": [
      "Mean squared error:  0.24811740492502773\n"
     ]
    }
   ],
   "source": [
    "### use Ridge to calculate mse and mae\n",
    "ridge = Ridge(alpha=1)\n",
    "ridge.fit(X_train,Y_train)\n",
    "predictions1 = ridge.predict(X_test)\n",
    "mse = mean_squared_error(Y_test, predictions1)\n",
    "print(\"Mean squared error: \", mse)"
   ]
  },
  {
   "cell_type": "code",
   "execution_count": 47,
   "id": "8328ecc0",
   "metadata": {},
   "outputs": [
    {
     "data": {
      "text/plain": [
       "0.49718386534551917"
      ]
     },
     "execution_count": 47,
     "metadata": {},
     "output_type": "execute_result"
    }
   ],
   "source": [
    "mae1=mean_absolute_error(y_pred=predictions1, y_true=Y_test)\n",
    "mae1# calculate mae of ridge"
   ]
  },
  {
   "cell_type": "code",
   "execution_count": 72,
   "id": "4bffbac0",
   "metadata": {},
   "outputs": [
    {
     "name": "stdout",
     "output_type": "stream",
     "text": [
      "Mean squared error:  0.2498746170162567\n"
     ]
    }
   ],
   "source": [
    "### use Lasso to calculate lasso\n",
    "lasso = Lasso(alpha=1)\n",
    "lasso.fit(X_train, Y_train)\n",
    "predictions2 = lasso.predict(X_test)\n",
    "mse = mean_squared_error(Y_test, predictions2)\n",
    "print(\"Mean squared error: \", mse)"
   ]
  },
  {
   "cell_type": "code",
   "execution_count": 73,
   "id": "09d1c734",
   "metadata": {},
   "outputs": [
    {
     "data": {
      "text/plain": [
       "0.49974400946388503"
      ]
     },
     "execution_count": 73,
     "metadata": {},
     "output_type": "execute_result"
    }
   ],
   "source": [
    "mae2=mean_absolute_error(y_pred=predictions2, y_true=Y_test) # calculate mae of lasso\n",
    "mae2"
   ]
  },
  {
   "cell_type": "code",
   "execution_count": 70,
   "id": "31fe0572",
   "metadata": {},
   "outputs": [
    {
     "name": "stdout",
     "output_type": "stream",
     "text": [
      "Mean squared error:  0.24986867787570413\n"
     ]
    }
   ],
   "source": [
    "### use ElasticNet to calculate mse and msa\n",
    "elasticnet = ElasticNet(alpha = 1,l1_ratio = 0.5)\n",
    "elasticnet.fit(X_train,Y_train)\n",
    "predictions3 = elasticnet.predict(X_test)\n",
    "mse = mean_squared_error(Y_test, predictions3)\n",
    "print(\"Mean squared error: \", mse)"
   ]
  },
  {
   "cell_type": "code",
   "execution_count": 71,
   "id": "77628daa",
   "metadata": {},
   "outputs": [
    {
     "data": {
      "text/plain": [
       "0.499734491667234"
      ]
     },
     "execution_count": 71,
     "metadata": {},
     "output_type": "execute_result"
    }
   ],
   "source": [
    "mae3=mean_absolute_error(y_pred=predictions3, y_true=Y_test)# calculate mae of ElasticNet \n",
    "mae3"
   ]
  },
  {
   "cell_type": "markdown",
   "id": "4cd6b807",
   "metadata": {},
   "source": [
    "6. Let's try Polynomial of order 2 to compare the previous results. What will the result be if we choose the n order too high?\n"
   ]
  },
  {
   "cell_type": "code",
   "execution_count": 51,
   "id": "c0df6346",
   "metadata": {},
   "outputs": [
    {
     "name": "stdout",
     "output_type": "stream",
     "text": [
      "Mean squared error:  0.2481165893297746\n"
     ]
    }
   ],
   "source": [
    "### use PolynomialFeatures to calculate mse and msa\n",
    "poly = PolynomialFeatures(degree=2, include_bias=False)\n",
    "poly = LinearRegression()\n",
    "poly.fit(X_train, Y_train)\n",
    "predicitions4 = poly.predict(X_test)\n",
    "mse = mean_squared_error(Y_test, predicitions4)\n",
    "print(\"Mean squared error: \", mse)"
   ]
  },
  {
   "cell_type": "code",
   "execution_count": 52,
   "id": "cb02ffff",
   "metadata": {},
   "outputs": [
    {
     "data": {
      "text/plain": [
       "0.49718036564106177"
      ]
     },
     "execution_count": 52,
     "metadata": {},
     "output_type": "execute_result"
    }
   ],
   "source": [
    "mae4=mean_absolute_error(y_pred=predicitions4, y_true=Y_test) # calculate mae of Polynomial Features order 2\n",
    "mae4"
   ]
  },
  {
   "cell_type": "code",
   "execution_count": 64,
   "id": "dc6092a1",
   "metadata": {},
   "outputs": [],
   "source": [
    "#Linear Regression with Polynomial Transform\n",
    "from sklearn.preprocessing import PolynomialFeatures\n",
    "from sklearn.pipeline import make_pipeline\n",
    "poly1 = make_pipeline(PolynomialFeatures(2, include_bias=False), LinearRegression())  \n",
    "poly1.fit(X_train, Y_train)  \n",
    "pred = poly1.predict(X_test)\n"
   ]
  },
  {
   "cell_type": "code",
   "execution_count": 54,
   "id": "f1ce74d8",
   "metadata": {},
   "outputs": [],
   "source": [
    "Y_pred = pred # gán y_pred là predictions"
   ]
  },
  {
   "cell_type": "code",
   "execution_count": 55,
   "id": "61ade352",
   "metadata": {},
   "outputs": [],
   "source": [
    "Y_true = Y_test #gán y_true là test"
   ]
  },
  {
   "cell_type": "code",
   "execution_count": 56,
   "id": "358acd17",
   "metadata": {},
   "outputs": [
    {
     "data": {
      "text/plain": [
       "0.48916081605745776"
      ]
     },
     "execution_count": 56,
     "metadata": {},
     "output_type": "execute_result"
    }
   ],
   "source": [
    "mean_absolute_error(Y_pred, Y_test) # tính msa  "
   ]
  },
  {
   "cell_type": "code",
   "execution_count": 57,
   "id": "7d9fdce6",
   "metadata": {},
   "outputs": [
    {
     "name": "stdout",
     "output_type": "stream",
     "text": [
      "Mean squared error:  0.2431807235664149\n"
     ]
    }
   ],
   "source": [
    "mse = mean_squared_error(Y_test, pred) # calulate mse\n",
    "print(\"Mean squared error: \", mse) # display mse "
   ]
  },
  {
   "cell_type": "markdown",
   "id": "c4f0db04",
   "metadata": {},
   "source": [
    "### Nhận xét :\n",
    "- Nhìn chung giữa các phương pháp mae của \"Ridge\", \"Lasso\" hay \"ElasticNet\" đều có sự chêch lệch lớn so với kết quả của Linear Regression, tuy nhiên với Ridge thì mae có sự chêch lệch ít hơn so với Linear Regression.\n",
    "- Nếu chọn n quá cao trong Polynomial Transform sẽ dẫn tới việc chêch lệch cao của mae.Việc Linear Regression với Polinomial Transform với n quá cao sẽ cho kết quả tập test tệ hơn trên tập train"
   ]
  },
  {
   "cell_type": "code",
   "execution_count": null,
   "id": "e01e2cbf",
   "metadata": {},
   "outputs": [],
   "source": []
  }
 ],
 "metadata": {
  "kernelspec": {
   "display_name": "Python 3 (ipykernel)",
   "language": "python",
   "name": "python3"
  },
  "language_info": {
   "codemirror_mode": {
    "name": "ipython",
    "version": 3
   },
   "file_extension": ".py",
   "mimetype": "text/x-python",
   "name": "python",
   "nbconvert_exporter": "python",
   "pygments_lexer": "ipython3",
   "version": "3.9.12"
  }
 },
 "nbformat": 4,
 "nbformat_minor": 5
}
