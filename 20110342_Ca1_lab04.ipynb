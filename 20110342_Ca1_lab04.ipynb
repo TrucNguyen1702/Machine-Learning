{
 "cells": [
  {
   "cell_type": "markdown",
   "id": "93813079",
   "metadata": {},
   "source": [
    "### 20110342_Nguyễn Thanh Trúc"
   ]
  },
  {
   "cell_type": "markdown",
   "id": "e4af6952",
   "metadata": {},
   "source": [
    "### Yêu cầu bài làm\n",
    "1. Analyze and Preprocess data - Check if the dataset has missing values or has any other problem.\n",
    "2. Feature Engineering\n",
    "3. Sampling Your Data\n",
    "4. Build Model\n",
    "    4. a. Try DecisionTree, RandomForest\n",
    "    4. b. Try other tree-based model like: XGBoost, CatBoost\n",
    "5. Perform model on training set and test set using gridsearch CV\n",
    "6. Measure performance of the model.\n",
    "7. Which metric is your main metric for this problem and why? What is your main model as well as their params and why?"
   ]
  },
  {
   "cell_type": "markdown",
   "id": "3b44101d",
   "metadata": {},
   "source": [
    "### Nội dung của bài\n",
    "Churn rate is a marketing metric that describes the number of customers who leave a business over a specific time period. Every user is assigned a prediction value that estimates their state of churn at any given time. This value is based on:\n",
    "\n",
    "User demographic information Browsing behavior Historical purchase data among other information It factors in our unique and proprietary predictions of how long a user will remain a customer. This score is updated every day for all users who have a minimum of one conversion. The values assigned are between 1 and 5."
   ]
  },
  {
   "cell_type": "code",
   "execution_count": 1,
   "id": "40738e89",
   "metadata": {},
   "outputs": [],
   "source": [
    "# khai báo hàm thư viện cần dùng\n",
    "import pandas as pd\n",
    "import numpy as np\n",
    "import matplotlib.pyplot as plt\n",
    "import seaborn as sns"
   ]
  },
  {
   "cell_type": "code",
   "execution_count": 2,
   "id": "956b1227",
   "metadata": {},
   "outputs": [
    {
     "data": {
      "text/html": [
       "<div>\n",
       "<style scoped>\n",
       "    .dataframe tbody tr th:only-of-type {\n",
       "        vertical-align: middle;\n",
       "    }\n",
       "\n",
       "    .dataframe tbody tr th {\n",
       "        vertical-align: top;\n",
       "    }\n",
       "\n",
       "    .dataframe thead th {\n",
       "        text-align: right;\n",
       "    }\n",
       "</style>\n",
       "<table border=\"1\" class=\"dataframe\">\n",
       "  <thead>\n",
       "    <tr style=\"text-align: right;\">\n",
       "      <th></th>\n",
       "      <th>customer_id</th>\n",
       "      <th>Name</th>\n",
       "      <th>age</th>\n",
       "      <th>gender</th>\n",
       "      <th>security_no</th>\n",
       "      <th>region_category</th>\n",
       "      <th>membership_category</th>\n",
       "      <th>joining_date</th>\n",
       "      <th>joined_through_referral</th>\n",
       "      <th>referral_id</th>\n",
       "      <th>...</th>\n",
       "      <th>avg_time_spent</th>\n",
       "      <th>avg_transaction_value</th>\n",
       "      <th>avg_frequency_login_days</th>\n",
       "      <th>points_in_wallet</th>\n",
       "      <th>used_special_discount</th>\n",
       "      <th>offer_application_preference</th>\n",
       "      <th>past_complaint</th>\n",
       "      <th>complaint_status</th>\n",
       "      <th>feedback</th>\n",
       "      <th>churn_risk_score</th>\n",
       "    </tr>\n",
       "  </thead>\n",
       "  <tbody>\n",
       "    <tr>\n",
       "      <th>0</th>\n",
       "      <td>fffe4300490044003600300030003800</td>\n",
       "      <td>Pattie Morrisey</td>\n",
       "      <td>18</td>\n",
       "      <td>F</td>\n",
       "      <td>XW0DQ7H</td>\n",
       "      <td>Village</td>\n",
       "      <td>Platinum Membership</td>\n",
       "      <td>2017-08-17</td>\n",
       "      <td>No</td>\n",
       "      <td>xxxxxxxx</td>\n",
       "      <td>...</td>\n",
       "      <td>300.63</td>\n",
       "      <td>53005.25</td>\n",
       "      <td>17.0</td>\n",
       "      <td>781.75</td>\n",
       "      <td>Yes</td>\n",
       "      <td>Yes</td>\n",
       "      <td>No</td>\n",
       "      <td>Not Applicable</td>\n",
       "      <td>Products always in Stock</td>\n",
       "      <td>2</td>\n",
       "    </tr>\n",
       "    <tr>\n",
       "      <th>1</th>\n",
       "      <td>fffe43004900440032003100300035003700</td>\n",
       "      <td>Traci Peery</td>\n",
       "      <td>32</td>\n",
       "      <td>F</td>\n",
       "      <td>5K0N3X1</td>\n",
       "      <td>City</td>\n",
       "      <td>Premium Membership</td>\n",
       "      <td>2017-08-28</td>\n",
       "      <td>?</td>\n",
       "      <td>CID21329</td>\n",
       "      <td>...</td>\n",
       "      <td>306.34</td>\n",
       "      <td>12838.38</td>\n",
       "      <td>10.0</td>\n",
       "      <td>NaN</td>\n",
       "      <td>Yes</td>\n",
       "      <td>No</td>\n",
       "      <td>Yes</td>\n",
       "      <td>Solved</td>\n",
       "      <td>Quality Customer Care</td>\n",
       "      <td>1</td>\n",
       "    </tr>\n",
       "    <tr>\n",
       "      <th>2</th>\n",
       "      <td>fffe4300490044003100390032003600</td>\n",
       "      <td>Merideth Mcmeen</td>\n",
       "      <td>44</td>\n",
       "      <td>F</td>\n",
       "      <td>1F2TCL3</td>\n",
       "      <td>Town</td>\n",
       "      <td>No Membership</td>\n",
       "      <td>2016-11-11</td>\n",
       "      <td>Yes</td>\n",
       "      <td>CID12313</td>\n",
       "      <td>...</td>\n",
       "      <td>516.16</td>\n",
       "      <td>21027.00</td>\n",
       "      <td>22.0</td>\n",
       "      <td>500.69</td>\n",
       "      <td>No</td>\n",
       "      <td>Yes</td>\n",
       "      <td>Yes</td>\n",
       "      <td>Solved in Follow-up</td>\n",
       "      <td>Poor Website</td>\n",
       "      <td>5</td>\n",
       "    </tr>\n",
       "    <tr>\n",
       "      <th>3</th>\n",
       "      <td>fffe43004900440036003000330031003600</td>\n",
       "      <td>Eufemia Cardwell</td>\n",
       "      <td>37</td>\n",
       "      <td>M</td>\n",
       "      <td>VJGJ33N</td>\n",
       "      <td>City</td>\n",
       "      <td>No Membership</td>\n",
       "      <td>2016-10-29</td>\n",
       "      <td>Yes</td>\n",
       "      <td>CID3793</td>\n",
       "      <td>...</td>\n",
       "      <td>53.27</td>\n",
       "      <td>25239.56</td>\n",
       "      <td>6.0</td>\n",
       "      <td>567.66</td>\n",
       "      <td>No</td>\n",
       "      <td>Yes</td>\n",
       "      <td>Yes</td>\n",
       "      <td>Unsolved</td>\n",
       "      <td>Poor Website</td>\n",
       "      <td>5</td>\n",
       "    </tr>\n",
       "    <tr>\n",
       "      <th>4</th>\n",
       "      <td>fffe43004900440031003900350030003600</td>\n",
       "      <td>Meghan Kosak</td>\n",
       "      <td>31</td>\n",
       "      <td>F</td>\n",
       "      <td>SVZXCWB</td>\n",
       "      <td>City</td>\n",
       "      <td>No Membership</td>\n",
       "      <td>2017-09-12</td>\n",
       "      <td>No</td>\n",
       "      <td>xxxxxxxx</td>\n",
       "      <td>...</td>\n",
       "      <td>113.13</td>\n",
       "      <td>24483.66</td>\n",
       "      <td>16.0</td>\n",
       "      <td>663.06</td>\n",
       "      <td>No</td>\n",
       "      <td>Yes</td>\n",
       "      <td>Yes</td>\n",
       "      <td>Solved</td>\n",
       "      <td>Poor Website</td>\n",
       "      <td>5</td>\n",
       "    </tr>\n",
       "  </tbody>\n",
       "</table>\n",
       "<p>5 rows × 25 columns</p>\n",
       "</div>"
      ],
      "text/plain": [
       "                            customer_id              Name  age gender   \n",
       "0      fffe4300490044003600300030003800   Pattie Morrisey   18      F  \\\n",
       "1  fffe43004900440032003100300035003700       Traci Peery   32      F   \n",
       "2      fffe4300490044003100390032003600   Merideth Mcmeen   44      F   \n",
       "3  fffe43004900440036003000330031003600  Eufemia Cardwell   37      M   \n",
       "4  fffe43004900440031003900350030003600      Meghan Kosak   31      F   \n",
       "\n",
       "  security_no region_category  membership_category joining_date   \n",
       "0     XW0DQ7H         Village  Platinum Membership   2017-08-17  \\\n",
       "1     5K0N3X1            City   Premium Membership   2017-08-28   \n",
       "2     1F2TCL3            Town        No Membership   2016-11-11   \n",
       "3     VJGJ33N            City        No Membership   2016-10-29   \n",
       "4     SVZXCWB            City        No Membership   2017-09-12   \n",
       "\n",
       "  joined_through_referral referral_id  ... avg_time_spent   \n",
       "0                      No    xxxxxxxx  ...         300.63  \\\n",
       "1                       ?    CID21329  ...         306.34   \n",
       "2                     Yes    CID12313  ...         516.16   \n",
       "3                     Yes     CID3793  ...          53.27   \n",
       "4                      No    xxxxxxxx  ...         113.13   \n",
       "\n",
       "  avg_transaction_value avg_frequency_login_days points_in_wallet   \n",
       "0              53005.25                     17.0           781.75  \\\n",
       "1              12838.38                     10.0              NaN   \n",
       "2              21027.00                     22.0           500.69   \n",
       "3              25239.56                      6.0           567.66   \n",
       "4              24483.66                     16.0           663.06   \n",
       "\n",
       "   used_special_discount  offer_application_preference  past_complaint   \n",
       "0                    Yes                           Yes              No  \\\n",
       "1                    Yes                            No             Yes   \n",
       "2                     No                           Yes             Yes   \n",
       "3                     No                           Yes             Yes   \n",
       "4                     No                           Yes             Yes   \n",
       "\n",
       "      complaint_status                  feedback churn_risk_score  \n",
       "0       Not Applicable  Products always in Stock                2  \n",
       "1               Solved     Quality Customer Care                1  \n",
       "2  Solved in Follow-up              Poor Website                5  \n",
       "3             Unsolved              Poor Website                5  \n",
       "4               Solved              Poor Website                5  \n",
       "\n",
       "[5 rows x 25 columns]"
      ]
     },
     "execution_count": 2,
     "metadata": {},
     "output_type": "execute_result"
    }
   ],
   "source": [
    "# đọc dữ liệu từ file csv\n",
    "df = pd.read_csv(\"HomeWork-churn_rate_prediction.csv\")\n",
    "df.head()"
   ]
  },
  {
   "cell_type": "code",
   "execution_count": 3,
   "id": "c048f482",
   "metadata": {},
   "outputs": [
    {
     "data": {
      "text/html": [
       "<div>\n",
       "<style scoped>\n",
       "    .dataframe tbody tr th:only-of-type {\n",
       "        vertical-align: middle;\n",
       "    }\n",
       "\n",
       "    .dataframe tbody tr th {\n",
       "        vertical-align: top;\n",
       "    }\n",
       "\n",
       "    .dataframe thead th {\n",
       "        text-align: right;\n",
       "    }\n",
       "</style>\n",
       "<table border=\"1\" class=\"dataframe\">\n",
       "  <thead>\n",
       "    <tr style=\"text-align: right;\">\n",
       "      <th></th>\n",
       "      <th>age</th>\n",
       "      <th>days_since_last_login</th>\n",
       "      <th>avg_time_spent</th>\n",
       "      <th>avg_transaction_value</th>\n",
       "      <th>points_in_wallet</th>\n",
       "      <th>churn_risk_score</th>\n",
       "    </tr>\n",
       "  </thead>\n",
       "  <tbody>\n",
       "    <tr>\n",
       "      <th>count</th>\n",
       "      <td>36992.000000</td>\n",
       "      <td>36992.000000</td>\n",
       "      <td>36992.000000</td>\n",
       "      <td>36992.000000</td>\n",
       "      <td>33549.000000</td>\n",
       "      <td>36992.000000</td>\n",
       "    </tr>\n",
       "    <tr>\n",
       "      <th>mean</th>\n",
       "      <td>37.118161</td>\n",
       "      <td>-41.915576</td>\n",
       "      <td>243.472334</td>\n",
       "      <td>29271.194003</td>\n",
       "      <td>686.882199</td>\n",
       "      <td>3.463397</td>\n",
       "    </tr>\n",
       "    <tr>\n",
       "      <th>std</th>\n",
       "      <td>15.867412</td>\n",
       "      <td>228.819900</td>\n",
       "      <td>398.289149</td>\n",
       "      <td>19444.806226</td>\n",
       "      <td>194.063624</td>\n",
       "      <td>1.409661</td>\n",
       "    </tr>\n",
       "    <tr>\n",
       "      <th>min</th>\n",
       "      <td>10.000000</td>\n",
       "      <td>-999.000000</td>\n",
       "      <td>-2814.109110</td>\n",
       "      <td>800.460000</td>\n",
       "      <td>-760.661236</td>\n",
       "      <td>-1.000000</td>\n",
       "    </tr>\n",
       "    <tr>\n",
       "      <th>25%</th>\n",
       "      <td>23.000000</td>\n",
       "      <td>8.000000</td>\n",
       "      <td>60.102500</td>\n",
       "      <td>14177.540000</td>\n",
       "      <td>616.150000</td>\n",
       "      <td>3.000000</td>\n",
       "    </tr>\n",
       "    <tr>\n",
       "      <th>50%</th>\n",
       "      <td>37.000000</td>\n",
       "      <td>12.000000</td>\n",
       "      <td>161.765000</td>\n",
       "      <td>27554.485000</td>\n",
       "      <td>697.620000</td>\n",
       "      <td>4.000000</td>\n",
       "    </tr>\n",
       "    <tr>\n",
       "      <th>75%</th>\n",
       "      <td>51.000000</td>\n",
       "      <td>16.000000</td>\n",
       "      <td>356.515000</td>\n",
       "      <td>40855.110000</td>\n",
       "      <td>763.950000</td>\n",
       "      <td>5.000000</td>\n",
       "    </tr>\n",
       "    <tr>\n",
       "      <th>max</th>\n",
       "      <td>64.000000</td>\n",
       "      <td>26.000000</td>\n",
       "      <td>3235.578521</td>\n",
       "      <td>99914.050000</td>\n",
       "      <td>2069.069761</td>\n",
       "      <td>5.000000</td>\n",
       "    </tr>\n",
       "  </tbody>\n",
       "</table>\n",
       "</div>"
      ],
      "text/plain": [
       "                age  days_since_last_login  avg_time_spent   \n",
       "count  36992.000000           36992.000000    36992.000000  \\\n",
       "mean      37.118161             -41.915576      243.472334   \n",
       "std       15.867412             228.819900      398.289149   \n",
       "min       10.000000            -999.000000    -2814.109110   \n",
       "25%       23.000000               8.000000       60.102500   \n",
       "50%       37.000000              12.000000      161.765000   \n",
       "75%       51.000000              16.000000      356.515000   \n",
       "max       64.000000              26.000000     3235.578521   \n",
       "\n",
       "       avg_transaction_value  points_in_wallet  churn_risk_score  \n",
       "count           36992.000000      33549.000000      36992.000000  \n",
       "mean            29271.194003        686.882199          3.463397  \n",
       "std             19444.806226        194.063624          1.409661  \n",
       "min               800.460000       -760.661236         -1.000000  \n",
       "25%             14177.540000        616.150000          3.000000  \n",
       "50%             27554.485000        697.620000          4.000000  \n",
       "75%             40855.110000        763.950000          5.000000  \n",
       "max             99914.050000       2069.069761          5.000000  "
      ]
     },
     "execution_count": 3,
     "metadata": {},
     "output_type": "execute_result"
    }
   ],
   "source": [
    "# tính các giá trị như count, mean, std, min\n",
    "df.describe()"
   ]
  },
  {
   "cell_type": "code",
   "execution_count": 4,
   "id": "e190bd8b",
   "metadata": {},
   "outputs": [
    {
     "name": "stdout",
     "output_type": "stream",
     "text": [
      "<class 'pandas.core.frame.DataFrame'>\n",
      "RangeIndex: 36992 entries, 0 to 36991\n",
      "Data columns (total 25 columns):\n",
      " #   Column                        Non-Null Count  Dtype  \n",
      "---  ------                        --------------  -----  \n",
      " 0   customer_id                   36992 non-null  object \n",
      " 1   Name                          36992 non-null  object \n",
      " 2   age                           36992 non-null  int64  \n",
      " 3   gender                        36992 non-null  object \n",
      " 4   security_no                   36992 non-null  object \n",
      " 5   region_category               31564 non-null  object \n",
      " 6   membership_category           36992 non-null  object \n",
      " 7   joining_date                  36992 non-null  object \n",
      " 8   joined_through_referral       36992 non-null  object \n",
      " 9   referral_id                   36992 non-null  object \n",
      " 10  preferred_offer_types         36704 non-null  object \n",
      " 11  medium_of_operation           36992 non-null  object \n",
      " 12  internet_option               36992 non-null  object \n",
      " 13  last_visit_time               36992 non-null  object \n",
      " 14  days_since_last_login         36992 non-null  int64  \n",
      " 15  avg_time_spent                36992 non-null  float64\n",
      " 16  avg_transaction_value         36992 non-null  float64\n",
      " 17  avg_frequency_login_days      36992 non-null  object \n",
      " 18  points_in_wallet              33549 non-null  float64\n",
      " 19  used_special_discount         36992 non-null  object \n",
      " 20  offer_application_preference  36992 non-null  object \n",
      " 21  past_complaint                36992 non-null  object \n",
      " 22  complaint_status              36992 non-null  object \n",
      " 23  feedback                      36992 non-null  object \n",
      " 24  churn_risk_score              36992 non-null  int64  \n",
      "dtypes: float64(3), int64(3), object(19)\n",
      "memory usage: 7.1+ MB\n"
     ]
    }
   ],
   "source": [
    "# in ra các định dạng của mỗi cột\n",
    "df.info()"
   ]
  },
  {
   "cell_type": "code",
   "execution_count": 5,
   "id": "138cf941",
   "metadata": {},
   "outputs": [
    {
     "data": {
      "text/plain": [
       "customer_id                        0\n",
       "Name                               0\n",
       "age                                0\n",
       "gender                             0\n",
       "security_no                        0\n",
       "region_category                 5428\n",
       "membership_category                0\n",
       "joining_date                       0\n",
       "joined_through_referral            0\n",
       "referral_id                        0\n",
       "preferred_offer_types            288\n",
       "medium_of_operation                0\n",
       "internet_option                    0\n",
       "last_visit_time                    0\n",
       "days_since_last_login              0\n",
       "avg_time_spent                     0\n",
       "avg_transaction_value              0\n",
       "avg_frequency_login_days           0\n",
       "points_in_wallet                3443\n",
       "used_special_discount              0\n",
       "offer_application_preference       0\n",
       "past_complaint                     0\n",
       "complaint_status                   0\n",
       "feedback                           0\n",
       "churn_risk_score                   0\n",
       "dtype: int64"
      ]
     },
     "execution_count": 5,
     "metadata": {},
     "output_type": "execute_result"
    }
   ],
   "source": [
    "# tính tổng giá trị null của từng cột\n",
    "df.isnull().sum()"
   ]
  },
  {
   "cell_type": "code",
   "execution_count": 6,
   "id": "58b40cba",
   "metadata": {},
   "outputs": [],
   "source": [
    "# Get categorical columns and numerical columns\n",
    "categorical_cols = [feature for feature in df.columns if df[feature].dtype == \"O\"]\n",
    "numerical_cols = [feature for feature in df.columns if df[feature].dtype != \"O\"]"
   ]
  },
  {
   "cell_type": "code",
   "execution_count": 7,
   "id": "6427c020",
   "metadata": {},
   "outputs": [
    {
     "name": "stdout",
     "output_type": "stream",
     "text": [
      "Cathegorical :  ['customer_id', 'Name', 'gender', 'security_no', 'region_category', 'membership_category', 'joining_date', 'joined_through_referral', 'referral_id', 'preferred_offer_types', 'medium_of_operation', 'internet_option', 'last_visit_time', 'avg_frequency_login_days', 'used_special_discount', 'offer_application_preference', 'past_complaint', 'complaint_status', 'feedback']\n"
     ]
    }
   ],
   "source": [
    "# display cathegorical columns\n",
    "print(\"Cathegorical : \", categorical_cols)"
   ]
  },
  {
   "cell_type": "code",
   "execution_count": 8,
   "id": "7db966bf",
   "metadata": {},
   "outputs": [
    {
     "name": "stdout",
     "output_type": "stream",
     "text": [
      "Numerical :  ['age', 'days_since_last_login', 'avg_time_spent', 'avg_transaction_value', 'points_in_wallet', 'churn_risk_score']\n"
     ]
    }
   ],
   "source": [
    "# display numerical columns\n",
    "print(\"Numerical : \", numerical_cols)"
   ]
  },
  {
   "cell_type": "code",
   "execution_count": 9,
   "id": "77e097cf",
   "metadata": {},
   "outputs": [
    {
     "data": {
      "text/plain": [
       "customer_id                        0\n",
       "Name                               0\n",
       "gender                             0\n",
       "security_no                        0\n",
       "region_category                 5428\n",
       "membership_category                0\n",
       "joining_date                       0\n",
       "joined_through_referral            0\n",
       "referral_id                        0\n",
       "preferred_offer_types            288\n",
       "medium_of_operation                0\n",
       "internet_option                    0\n",
       "last_visit_time                    0\n",
       "avg_frequency_login_days           0\n",
       "used_special_discount              0\n",
       "offer_application_preference       0\n",
       "past_complaint                     0\n",
       "complaint_status                   0\n",
       "feedback                           0\n",
       "dtype: int64"
      ]
     },
     "execution_count": 9,
     "metadata": {},
     "output_type": "execute_result"
    }
   ],
   "source": [
    "df[categorical_cols].isnull().sum() # count and display sum \"NULL\" values in categorical columns"
   ]
  },
  {
   "cell_type": "code",
   "execution_count": 10,
   "id": "03555415",
   "metadata": {},
   "outputs": [
    {
     "data": {
      "text/plain": [
       "age                         0\n",
       "days_since_last_login       0\n",
       "avg_time_spent              0\n",
       "avg_transaction_value       0\n",
       "points_in_wallet         3443\n",
       "churn_risk_score            0\n",
       "dtype: int64"
      ]
     },
     "execution_count": 10,
     "metadata": {},
     "output_type": "execute_result"
    }
   ],
   "source": [
    "df[numerical_cols].isnull().sum() # count and display sum \"NULL\" values in numerical columns"
   ]
  },
  {
   "cell_type": "code",
   "execution_count": 11,
   "id": "e4cfd6a6",
   "metadata": {},
   "outputs": [
    {
     "data": {
      "text/plain": [
       "<AxesSubplot:ylabel='count'>"
      ]
     },
     "execution_count": 11,
     "metadata": {},
     "output_type": "execute_result"
    },
    {
     "data": {
      "image/png": "[encoded data removed]",
      "text/plain": [
       "<Figure size 432x288 with 1 Axes>"
      ]
     },
     "metadata": {},
     "output_type": "display_data"
    }
   ],
   "source": [
    "# vẽ biểu đồ tròn so sánh tỷ lệ churn score chủ yếu là đến từ vùng nào\n",
    "df.region_category.value_counts().plot(kind='pie',autopct=\"%1.1f%%\") # draw the pie plot of region_category to compare all values inside this columns"
   ]
  },
  {
   "cell_type": "code",
   "execution_count": 12,
   "id": "fde9b910",
   "metadata": {},
   "outputs": [
    {
     "data": {
      "text/plain": [
       "<AxesSubplot:ylabel='count'>"
      ]
     },
     "execution_count": 12,
     "metadata": {},
     "output_type": "execute_result"
    },
    {
     "data": {
      "image/png": "[encoded data removed]",
      "text/plain": [
       "<Figure size 432x288 with 1 Axes>"
      ]
     },
     "metadata": {},
     "output_type": "display_data"
    }
   ],
   "source": [
    "# thống kê xem tỷ lệ nào nhiều nhất trong cột preferred_offoer_types\n",
    "df.preferred_offer_types.value_counts().plot(kind='pie',autopct=\"%1.1f%%\") # draw the pie plot of region_category to compare all values inside this columns"
   ]
  },
  {
   "cell_type": "code",
   "execution_count": null,
   "id": "b38bf2fe",
   "metadata": {},
   "outputs": [
    {
     "name": "stderr",
     "output_type": "stream",
     "text": [
      "C:\\Users\\nguye\\AppData\\Local\\Temp\\ipykernel_11776\\4285769284.py:2: DeprecationWarning: `import pandas_profiling` is going to be deprecated by April 1st. Please use `import ydata_profiling` instead.\n",
      "  from pandas_profiling import ProfileReport\n"
     ]
    },
    {
     "data": {
      "application/vnd.jupyter.widget-view+json": {
       "model_id": "a6aa7f8c7d714e8c81b661be7ebaf61e",
       "version_major": 2,
       "version_minor": 0
      },
      "text/plain": [
       "Summarize dataset:   0%|          | 0/5 [00:00<?, ?it/s]"
      ]
     },
     "metadata": {},
     "output_type": "display_data"
    }
   ],
   "source": [
    "# khai báo hàm thư viện và sử dụng hàm để trực quan các dữ liệu hiện có và xuất ra các thông tin cần thiết cho bài làm ví dụ nhưng missing cells\n",
    "from pandas_profiling import ProfileReport\n",
    "\n",
    "ProfileReport(df)"
   ]
  },
  {
   "cell_type": "code",
   "execution_count": null,
   "id": "73b7cc00",
   "metadata": {},
   "outputs": [],
   "source": [
    "# tính trung bình của một points in wallet để fillna bằng giá trị mean\n",
    "points_in_wallet_mean = np.mean(df['points_in_wallet'])"
   ]
  },
  {
   "cell_type": "code",
   "execution_count": null,
   "id": "90ca789a",
   "metadata": {},
   "outputs": [],
   "source": [
    "# Fill các giá trị null bằng trung bình hoặc replace bằng giá trị object nào nhiều nhất trong cột đó (dựa vào thống kê của 2 biểu đồ tròn ở trên)\n",
    "def preprocessing_data(df):\n",
    "    \"\"\"\n",
    "    Preprocess your data (eg. Drop null datapoints or fill missing data)\n",
    "    :param df: pandas DataFrame\n",
    "    :return: pandas DataFrame\n",
    "    \"\"\"\n",
    "    df[\"region_category\"].fillna(\"Town\", inplace = True)\n",
    "    df[\"preferred_offer_types\"].fillna(\"Gift Vouchers/Coupons\", inplace = True)\n",
    "    df[\"points_in_wallet\"].fillna(points_in_wallet_mean, inplace = True)\n",
    "    df.drop(\"referral_id\", axis=1, inplace=True)\n",
    "    return df"
   ]
  },
  {
   "cell_type": "code",
   "execution_count": null,
   "id": "63aa70eb",
   "metadata": {},
   "outputs": [],
   "source": [
    "# in kết quả\n",
    "df = preprocessing_data(df.copy())"
   ]
  },
  {
   "cell_type": "code",
   "execution_count": null,
   "id": "39410dbd",
   "metadata": {},
   "outputs": [],
   "source": [
    "# kiểm tra lại tổng các giá trị null ở từng cột\n",
    "df.isnull().sum()"
   ]
  },
  {
   "cell_type": "code",
   "execution_count": null,
   "id": "10074710",
   "metadata": {},
   "outputs": [],
   "source": [
    "# draw the boxplot of  numerical_cols\n",
    "fig, axes=plt.subplots(len(numerical_cols), 1, figsize=(14, 2*len(numerical_cols)),sharex=False,sharey=False)\n",
    "\n",
    "for i, column in enumerate(numerical_cols):\n",
    "    sns.boxplot(x=column,data=df,palette='crest',ax=axes[i])\n",
    "plt.tight_layout(pad=2.0)"
   ]
  },
  {
   "cell_type": "code",
   "execution_count": null,
   "id": "383ffdf9",
   "metadata": {},
   "outputs": [],
   "source": [
    "# in ra 5 dòng đầu tiên của bảng dữ liệu\n",
    "df.head()"
   ]
  },
  {
   "cell_type": "markdown",
   "id": "1b0a980e",
   "metadata": {},
   "source": [
    "## Feature Engineering"
   ]
  },
  {
   "cell_type": "code",
   "execution_count": null,
   "id": "53d4d003",
   "metadata": {},
   "outputs": [],
   "source": [
    "# khai báo thư viện seaborn để vẽ mô hình tương quan\n",
    "import seaborn as sns"
   ]
  },
  {
   "cell_type": "code",
   "execution_count": null,
   "id": "dec09f49",
   "metadata": {},
   "outputs": [],
   "source": [
    "# check xem định dạng ở mỗi cột là giá trị object hay float hay int để chuyển về 1 kiểu dữ liệu\n",
    "df.info()"
   ]
  },
  {
   "cell_type": "code",
   "execution_count": null,
   "id": "81c7f452",
   "metadata": {},
   "outputs": [],
   "source": [
    "# thay thế các giá trị error trong cột avg_frequency_login days bằng giá trị 0\n",
    "df.loc[df['avg_frequency_login_days'] == 'Error','avg_frequency_login_days'] =  0\n",
    "df"
   ]
  },
  {
   "cell_type": "code",
   "execution_count": null,
   "id": "fce99e39",
   "metadata": {},
   "outputs": [],
   "source": [
    "pip install category-encoders # cài dặt thư viện cần dùng"
   ]
  },
  {
   "cell_type": "code",
   "execution_count": null,
   "id": "be59b379",
   "metadata": {},
   "outputs": [],
   "source": [
    "# khai báo hàm thư viện cần dùng\n",
    "from sklearn.preprocessing import LabelEncoder "
   ]
  },
  {
   "cell_type": "code",
   "execution_count": null,
   "id": "09f69d4e",
   "metadata": {},
   "outputs": [],
   "source": [
    "# chuyển đổi kiểu dữ liệu từ  dạng categorical sang dạng numerical\n",
    "LE = LabelEncoder()\n",
    "df['Name'] = LE.fit_transform(df['Name'])\n",
    "df['security_no'] = LE.fit_transform(df['security_no'])\n",
    "df['joining_date'] = LE.fit_transform(df['joining_date'])\n",
    "df['last_visit_time'] = LE.fit_transform(df['last_visit_time'])\n",
    "df['feedback'] = LE.fit_transform(df['feedback'])\n",
    "df['customer_id'] = LE.fit_transform(df['customer_id'])"
   ]
  },
  {
   "cell_type": "code",
   "execution_count": null,
   "id": "b24961fd",
   "metadata": {},
   "outputs": [],
   "source": [
    "def apply_feature_engineering(df):\n",
    "    \"\"\"\n",
    "    Apply all feature engineering to transform your data into number\n",
    "    :param df: pandas DataFrame\n",
    "    :return: pandas DataFrame\n",
    "    \"\"\"\n",
    "    df[\"region_category\"] = df[\"region_category\"].astype(\"category\").cat.codes\n",
    "    df[\"gender\"] = df[\"gender\"].astype(\"category\").cat.codes\n",
    "    df[\"membership_category\"] = df[\"membership_category\"].astype(\"category\").cat.codes\n",
    "    df[\"joined_through_referral\"] = df[\"joined_through_referral\"].astype(\"category\").cat.codes\n",
    "    df[\"preferred_offer_types\"] = df[\"preferred_offer_types\"].astype(\"category\").cat.codes\n",
    "    df[\"medium_of_operation\"] = df[\"medium_of_operation\"].astype(\"category\").cat.codes\n",
    "    df[\"internet_option\"] = df[\"internet_option\"].astype(\"category\").cat.codes\n",
    "    df[\"used_special_discount\"] = df[\"used_special_discount\"].astype(\"category\").cat.codes\n",
    "    df[\"offer_application_preference\"] = df[\"offer_application_preference\"].astype(\"category\").cat.codes\n",
    "    df[\"past_complaint\"] = df[\"past_complaint\"].astype(\"category\").cat.codes\n",
    "    df[\"complaint_status\"] = df[\"complaint_status\"].astype(\"category\").cat.codes\n",
    "    df[\"avg_frequency_login_days\"] = df[\"avg_frequency_login_days\"].astype(\"category\").cat.codes\n",
    "    return df"
   ]
  },
  {
   "cell_type": "code",
   "execution_count": null,
   "id": "87c41338",
   "metadata": {},
   "outputs": [],
   "source": [
    "# in kết quả của hàm trên\n",
    "df = apply_feature_engineering(df)"
   ]
  },
  {
   "cell_type": "code",
   "execution_count": null,
   "id": "2392c1e3",
   "metadata": {},
   "outputs": [],
   "source": [
    "# kiểm tra lại định dạng của mỗi cột\n",
    "df.info()"
   ]
  },
  {
   "cell_type": "code",
   "execution_count": null,
   "id": "0a389c92",
   "metadata": {},
   "outputs": [],
   "source": [
    "# vẽ heatmap sau khi chuẩn hóa dữ liệu\n",
    "sns.heatmap(df.corr()) # Show heatmap after normalized data"
   ]
  },
  {
   "cell_type": "code",
   "execution_count": null,
   "id": "15981f3d",
   "metadata": {},
   "outputs": [],
   "source": [
    "def prepare_X_y(df):\n",
    "    \"\"\"\n",
    "    Feature engineering and create X and y\n",
    "    :param df: pandas dataframe\n",
    "    :return: (X, y) output feature matrix (dataframe), target (series)\n",
    "    \"\"\"\n",
    "    # Todo: Split data into X and y (using sklearn train_test_split). Return two dataframes\n",
    "    feature_names = df.columns.tolist()\n",
    "    feature_names.remove(\"churn_risk_score\")\n",
    "    X = df[feature_names].values\n",
    "    y = df.churn_risk_score.values\n",
    "    return X, y"
   ]
  },
  {
   "cell_type": "code",
   "execution_count": null,
   "id": "1894074d",
   "metadata": {},
   "outputs": [],
   "source": [
    "X, y = prepare_X_y(df)"
   ]
  },
  {
   "cell_type": "markdown",
   "id": "7f5ff15a",
   "metadata": {},
   "source": [
    "# Apply machine learning model"
   ]
  },
  {
   "cell_type": "markdown",
   "id": "0015c4d3",
   "metadata": {},
   "source": [
    "## Train - test split"
   ]
  },
  {
   "cell_type": "code",
   "execution_count": null,
   "id": "4ffca15d",
   "metadata": {},
   "outputs": [],
   "source": [
    "# chia tập train và tập test với tập train là 0,3 và random state là 42\n",
    "from sklearn.model_selection import train_test_split\n",
    "RANDOM_STATE = 42\n",
    "TRAIN_SIZE = 0.7\n",
    "\n",
    "X_train, X_test ,Y_train, Y_test = train_test_split(X, y, train_size=TRAIN_SIZE, random_state=RANDOM_STATE)"
   ]
  },
  {
   "cell_type": "markdown",
   "id": "fcae6e13",
   "metadata": {},
   "source": [
    "## Build SK - learn model"
   ]
  },
  {
   "cell_type": "code",
   "execution_count": null,
   "id": "aa3d54cb",
   "metadata": {},
   "outputs": [],
   "source": [
    "# Khai báo hàm thư viện cần dùng\n",
    "from sklearn.tree import DecisionTreeClassifier\n",
    "from sklearn.pipeline import Pipeline\n",
    "from sklearn.model_selection import GridSearchCV"
   ]
  },
  {
   "cell_type": "markdown",
   "id": "82f6755d",
   "metadata": {},
   "source": [
    "## Model of decision trees"
   ]
  },
  {
   "cell_type": "code",
   "execution_count": null,
   "id": "2ae0456e",
   "metadata": {},
   "outputs": [],
   "source": [
    "from sklearn.metrics import accuracy_score, confusion_matrix, classification_report\n",
    "# tạo hàm để xuất ra các giá trị accuracy, matrix, và bảng báo cáo cụ thể các số liệu của model\n",
    "def print_score(clf, X_train, Y_train, X_test, Y_test, train=True):\n",
    "    if train:\n",
    "        pred = clf.predict(X_train)\n",
    "        clf_report = pd.DataFrame(classification_report(Y_train, pred, output_dict=True))\n",
    "        print(\"Train Result:\\n================================================\")\n",
    "        print(f\"Accuracy Score: {accuracy_score(Y_train, pred) * 100:.2f}%\")\n",
    "        print(\"_______________________________________________\")\n",
    "        print(f\"CLASSIFICATION REPORT:\\n{clf_report}\")\n",
    "        print(\"_______________________________________________\")\n",
    "        print(f\"Confusion Matrix: \\n {confusion_matrix(Y_train, pred)}\\n\")\n",
    "        \n",
    "    elif train==False:\n",
    "        pred = clf.predict(X_test)\n",
    "        clf_report = pd.DataFrame(classification_report(Y_test, pred, output_dict=True))\n",
    "        print(\"Test Result:\\n================================================\")        \n",
    "        print(f\"Accuracy Score: {accuracy_score(Y_test, pred) * 100:.2f}%\")\n",
    "        print(\"_______________________________________________\")\n",
    "        print(f\"CLASSIFICATION REPORT:\\n{clf_report}\")\n",
    "        print(\"_______________________________________________\")\n",
    "        print(f\"Confusion Matrix: \\n {confusion_matrix(Y_test, pred)}\\n\")"
   ]
  },
  {
   "cell_type": "code",
   "execution_count": null,
   "id": "9b6116bc",
   "metadata": {},
   "outputs": [],
   "source": [
    "# Model decision tree và mesure perform model khi không dùng pipeline\n",
    "tree_clf = DecisionTreeClassifier(random_state=42)\n",
    "tree_clf.fit(X_train, Y_train)\n",
    "\n",
    "print_score(tree_clf, X_train, Y_train, X_test, Y_test, train=True)\n",
    "print_score(tree_clf, X_train, Y_train, X_test, Y_test, train=False)"
   ]
  },
  {
   "cell_type": "code",
   "execution_count": null,
   "id": "9f282cbb",
   "metadata": {},
   "outputs": [],
   "source": [
    "# Model decision tree và mesure perform model khi dùng pipeline\n",
    "from sklearn.tree import DecisionTreeClassifier\n",
    "from sklearn.model_selection import GridSearchCV\n",
    "from sklearn.pipeline import Pipeline\n",
    "params = {\n",
    "    \"criterion\":(\"gini\", \"entropy\"), \n",
    "    \"splitter\":(\"best\", \"random\"), \n",
    "}\n",
    "\n",
    "\n",
    "tree_clf = DecisionTreeClassifier(random_state=42)\n",
    "pipe = Pipeline(steps=[(\"tree\", tree_clf)])\n",
    "tree_cv = GridSearchCV(\n",
    "    tree_clf, \n",
    "    params, \n",
    "    scoring=\"f1\", \n",
    "    n_jobs=2, \n",
    ")\n",
    "\n",
    "tree_cv.fit(X_train, Y_train)\n",
    "best_params = tree_cv.best_params_\n",
    "print(f\"Best paramters: {best_params})\")\n",
    "\n",
    "tree_clf = DecisionTreeClassifier(**best_params)\n",
    "tree_clf.fit(X_train, Y_train)\n",
    "print_score(tree_clf, X_train, Y_train, X_test, Y_test, train=True)\n",
    "print_score(tree_clf, X_train, Y_train, X_test, Y_test, train=False)"
   ]
  },
  {
   "cell_type": "markdown",
   "id": "691ef49e",
   "metadata": {},
   "source": [
    "## Using random - forest"
   ]
  },
  {
   "cell_type": "code",
   "execution_count": null,
   "id": "a07f3aaf",
   "metadata": {},
   "outputs": [],
   "source": [
    "from sklearn.ensemble import RandomForestClassifier # khai báo hàm thư viện cần dùng"
   ]
  },
  {
   "cell_type": "code",
   "execution_count": null,
   "id": "ebbeb9d6",
   "metadata": {},
   "outputs": [],
   "source": [
    "# Model random - forest và mesure perform model khi không dùng pipeline\n",
    "rf_clf = RandomForestClassifier(n_estimators=100)\n",
    "rf_clf.fit(X_train, Y_train)\n",
    "\n",
    "print_score(rf_clf, X_train, Y_train, X_test, Y_test, train=True)\n",
    "print_score(rf_clf, X_train, Y_train, X_test, Y_test, train=False)"
   ]
  },
  {
   "cell_type": "code",
   "execution_count": null,
   "id": "5be967ce",
   "metadata": {},
   "outputs": [],
   "source": [
    "# # Model random - forest và mesure perform model khi dùng pipeline\n",
    "from sklearn.ensemble import RandomForestClassifier\n",
    "from sklearn.model_selection import GridSearchCV\n",
    "from sklearn.pipeline import Pipeline\n",
    "params = {\n",
    "    \"criterion\":(\"gini\", \"entropy\"), \n",
    "    \"splitter\":(\"best\", \"random\"), \n",
    "}\n",
    "\n",
    "\n",
    "rff_clf = RandomForestClassifier()\n",
    "pipe = Pipeline(steps=[(\"rf\", rff_clf)])\n",
    "rf_cv = GridSearchCV(\n",
    "    rff_clf, \n",
    "    params, \n",
    "    scoring=\"f1\", \n",
    "    n_jobs=2, \n",
    ")\n",
    "\n",
    "tree_cv.fit(X_train, Y_train)\n",
    "\n",
    "rf_clf = RandomForestClassifier()\n",
    "rf_clf.fit(X_train, Y_train)\n",
    "print_score(rf_clf, X_train, Y_train, X_test, Y_test, train=True)\n",
    "print_score(rf_clf, X_train, Y_train, X_test, Y_test, train=False)"
   ]
  },
  {
   "cell_type": "markdown",
   "id": "c7f6ca8b",
   "metadata": {},
   "source": [
    "## Using XGBoost"
   ]
  },
  {
   "cell_type": "code",
   "execution_count": null,
   "id": "dd5db27c",
   "metadata": {},
   "outputs": [],
   "source": [
    "# khai báo hàm thư viện cần dùng\n",
    "import xgboost as xgb\n",
    "from sklearn.model_selection import GridSearchCV\n",
    "from sklearn.metrics import classification_report\n",
    "from sklearn.metrics import precision_score, recall_score, f1_score, classification_report"
   ]
  },
  {
   "cell_type": "code",
   "execution_count": null,
   "id": "1fc74762",
   "metadata": {},
   "outputs": [],
   "source": [
    "# khai báo hàm thư viện cần dùng\n",
    "from xgboost import XGBRegressor"
   ]
  },
  {
   "cell_type": "code",
   "execution_count": null,
   "id": "2fa5a344",
   "metadata": {},
   "outputs": [],
   "source": [
    "# dùng để check lỗi invalid classes trên tập train\n",
    "unique_values = set(Y_train)\n",
    "expected_values = set([0, 1, 2, 3, 4, 5])\n",
    "if unique_values != expected_values:\n",
    "    print(\"Error: Invalid classes inferred from unique values of `y`.\")"
   ]
  },
  {
   "cell_type": "code",
   "execution_count": null,
   "id": "5f5886b2",
   "metadata": {},
   "outputs": [],
   "source": [
    "# # Model xgboost và mesure perform model khi  dùng pipeline\n",
    "import pandas as pd\n",
    "from xgboost import XGBClassifier\n",
    "from sklearn.model_selection import GridSearchCV\n",
    "from sklearn.pipeline import Pipeline\n",
    "\n",
    "Y_train = pd.Series(Y_train)\n",
    "Y_train.replace(-1, 6, inplace=True)\n",
    "Y_train.replace(6, 0, inplace=True)\n",
    "\n",
    "params = {}\n",
    "\n",
    "xgb_clf = XGBClassifier()\n",
    "pipe = Pipeline(steps=[(\"xgb\", xgb_clf)])\n",
    "xgb_cv = GridSearchCV(\n",
    "    xgb_clf, \n",
    "    params, \n",
    "    scoring=\"f1\", \n",
    "    n_jobs=2, \n",
    ")\n",
    "\n",
    "xgb_cv.fit(X_train, Y_train.values)\n",
    "\n",
    "xgb_clf = XGBClassifier()\n",
    "xgb_clf.fit(X_train, Y_train.values)\n",
    "print_score(xgb_clf, X_train, Y_train.values, X_test, Y_test, train=True)\n",
    "print_score(xgb_clf, X_train, Y_train.values, X_test, Y_test, train=False)\n"
   ]
  },
  {
   "cell_type": "markdown",
   "id": "96172ea0",
   "metadata": {},
   "source": [
    "## Using catboost "
   ]
  },
  {
   "cell_type": "code",
   "execution_count": null,
   "id": "bbd4bcac",
   "metadata": {},
   "outputs": [],
   "source": [
    "# Khai báo hàm thư viện cần dùng\n",
    "from catboost import CatBoostRegressor\n",
    "from catboost import CatBoostClassifier"
   ]
  },
  {
   "cell_type": "code",
   "execution_count": null,
   "id": "19d353b0",
   "metadata": {},
   "outputs": [],
   "source": [
    "from sklearn.metrics import precision_score, recall_score, f1_score, classification_report"
   ]
  },
  {
   "cell_type": "code",
   "execution_count": null,
   "id": "a18a704b",
   "metadata": {},
   "outputs": [],
   "source": [
    "CatBoost_model = CatBoostRegressor()\n",
    "CatBoost_model.fit(X_train, Y_train)"
   ]
  },
  {
   "cell_type": "code",
   "execution_count": null,
   "id": "6df07c0d",
   "metadata": {},
   "outputs": [],
   "source": [
    "cb_clf = CatBoostClassifier()\n",
    "pipe = Pipeline(steps=[(\"cb\", cb_clf)])"
   ]
  },
  {
   "cell_type": "code",
   "execution_count": null,
   "id": "18d21427",
   "metadata": {
    "scrolled": false
   },
   "outputs": [],
   "source": [
    "cb_clf.fit(X_train, Y_train)"
   ]
  },
  {
   "cell_type": "code",
   "execution_count": null,
   "id": "41fd720f",
   "metadata": {},
   "outputs": [],
   "source": [
    "# Dự đoán trên tập test\n",
    "y_pred = cb_clf.predict(X_test)\n",
    "\n",
    "# Đánh giá độ chính xác của mô hình\n",
    "acc = accuracy_score(Y_test, y_pred)\n",
    "print(\"Accuracy on testing: \", acc)\n"
   ]
  },
  {
   "cell_type": "code",
   "execution_count": null,
   "id": "2f576298",
   "metadata": {},
   "outputs": [],
   "source": [
    "# Dự đoán trên tập test\n",
    "y_pred = cb_clf.predict(X_train)\n",
    "\n",
    "# Đánh giá độ chính xác của mô hình\n",
    "acc = accuracy_score(Y_train, y_pred)\n",
    "print(\"Accuracy on training: \", acc)"
   ]
  },
  {
   "cell_type": "markdown",
   "id": "0cfbd6c5",
   "metadata": {},
   "source": [
    "## REPORT:\n",
    "- Theo em đối với tập dữ liệu mô tả số lượng khách hàng rời khỏi doanh nghiệp trong một khoản thời gian cụ thể và bắt mỗi người dùng được gán với một giá trị dự đoán ước tính trạng thái churn của họ tại bất kỳ thời điểm nào thì chủ yếu em sẽ đánh giá mô hình dựa trên chỉ số accuracy. Vì độ chính xác này sẽ đo lường tỷ lệ phần trắm khách hàng được dự đoán đúng về việc họ có rời khỏi dịch vụ hay không rời. \n",
    "- Mô hình quan trọng của em trong bài này là decision tree và random forest. Tuy nhiên nếu xét về độ phù hợp với yêu cầu của bài này em sẽ chọn random forest làm mô hình chính bới vì theo em độ chính xác là quan trọng nhất trong bài này mà random forest là dạng cho ra hai kết quả accuracy đều tốt nhất trên cả tập train và tập test. Ở random-forest khi dùng pipeline thì e có accuracy trên tập train là 100% và trên tập test là 74,14%. Và nó cũng cho ra kết quả rất tốt trên tập train và test kể cả khi em ko dùng pipeline , với các chỉ số là 73,89% và 100% lần lượt đại diện cho chỉ số accuracy trên tập test và accuracy trên tập train. Bên cạnh đó em cũng vẽ thêm model decision tree, xgboost và catboost để so sánh hiệu suất giữa các mô hình. Tuy nhiên nếu xếp sau random - forest sẽ là decision tree và nó cũng cho kết quả tốt trên tập train với chỉ số accuracy là 100%, tương tự với tập test với chỉ số accuracy là 70,44% (khi dùng pipeline). Từ những điều này có thể thấy được rằng mô hình random - forest sẽ cho ra kết quả tốt nhất với dạng bài này"
   ]
  },
  {
   "cell_type": "markdown",
   "id": "cbfa7f4c",
   "metadata": {},
   "source": []
  }
 ],
 "metadata": {
  "kernelspec": {
   "display_name": "Python 3 (ipykernel)",
   "language": "python",
   "name": "python3"
  },
  "language_info": {
   "codemirror_mode": {
    "name": "ipython",
    "version": 3
   },
   "file_extension": ".py",
   "mimetype": "text/x-python",
   "name": "python",
   "nbconvert_exporter": "python",
   "pygments_lexer": "ipython3",
   "version": "3.9.12"
  }
 },
 "nbformat": 4,
 "nbformat_minor": 5
}
