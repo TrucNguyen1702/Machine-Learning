{
 "cells": [
  {
   "cell_type": "markdown",
   "id": "8486652d",
   "metadata": {},
   "source": [
    "### 20110342 - Nguyễn Thanh Trúc"
   ]
  },
  {
   "cell_type": "markdown",
   "id": "f52e6095",
   "metadata": {},
   "source": [
    "### Yêu cầu:\n",
    "1. Analyze and Preprocess data - Check if the dataset has missing values or has any other problem.\n",
    "2. Feature Engineering\n",
    "3. Divide the dataset into 2 training and test sets\n",
    "4. Use Pipeline\n",
    "     a. Use scaler and dimensional reduction (if it is necessary). # sử dụng scaler and giảm số chiều nếu cần\n",
    "     b. Use suitable Naive Bayes for this problem. # sử dụng naive bayes phù hợp với vấn đề\n",
    "5. Perform model on training set and test set using gridsearch CV # gridsearch cv\n",
    "6. Measure performance of the model. # đo hiệu suất mô hình\n",
    "7. Which metric is your main metric for this problem and why? What are your scaler, dimensional reduction and naive bayes model as well as their params? (<= 200 words, also input your opinion or conclusion here)\n",
    "<<Số liệu nào là số liệu chính của bạn cho vấn đề này và tại sao? Mô hình scaler, giảm kích thước và bayes ngây thơ của bạn cũng như các thông số của chúng là gì?>> \n",
    "(<= 200 từ, đồng thời nhập ý kiến ​​hoặc kết luận của bạn tại đây)\n",
    "\n",
    "How can I measure your point:\n",
    "1. Your function is callable and runs correctly\n",
    "2. The performance of your model (in full pipeline) is acceptable. The final error based on my train and test set is low enough.\n",
    "3. The data preprocessing is correct or make sense\n",
    "4. The Feature engineering is correct or make sense\n",
    "5. Any other additional process will be considered a small plus point."
   ]
  },
  {
   "cell_type": "markdown",
   "id": "d730c5ea",
   "metadata": {},
   "source": [
    "A Travel Company Is Offering Travel Insurance Packages To Their Customers. The new insurance plan also covers Covid-19. The Company Claims To Know Which Customers Are Interested To Buy It Based On The Company's Database History.\n",
    "\n",
    "* Age - Age Of The Customer\n",
    "* Employment Type - The Sector In Which Customer Is Employed\n",
    "* GraduateOrNot - Whether The Customer Is College Graduate Or Not\n",
    "* AnnualIncome - The Yearly Income Of The Customer In Indian Rupees\n",
    "* FamilyMembers - Number Of Members In Customer's Family\n",
    "* ChronicDisease - Whether The Customer Suffers From Any Major Disease Or Conditions Like Diabetes/High BP or Asthama,etc.\n",
    "* FrequentFlyer - Derived Data Based On Customer's History Of Booking Air Tickets On Atleast 4 Different Instances In The Last 2 Years (2017-2019).\n",
    "* EverTravelledAbroad - Has The Customer Ever Travelled To A Foreign Country\n",
    "* TravelInsurance - Did The Customer Buy Travel Insurance Package During Introductory Offering Held In The Year 2019."
   ]
  },
  {
   "cell_type": "code",
   "execution_count": 1,
   "id": "ade5810e",
   "metadata": {},
   "outputs": [],
   "source": [
    "# import the library\n",
    "import pandas as pd\n",
    "import numpy as np\n",
    "import matplotlib.pyplot as plt\n",
    "import seaborn as sns"
   ]
  },
  {
   "cell_type": "code",
   "execution_count": 2,
   "id": "7e878c04",
   "metadata": {},
   "outputs": [
    {
     "data": {
      "text/html": [
       "<div>\n",
       "<style scoped>\n",
       "    .dataframe tbody tr th:only-of-type {\n",
       "        vertical-align: middle;\n",
       "    }\n",
       "\n",
       "    .dataframe tbody tr th {\n",
       "        vertical-align: top;\n",
       "    }\n",
       "\n",
       "    .dataframe thead th {\n",
       "        text-align: right;\n",
       "    }\n",
       "</style>\n",
       "<table border=\"1\" class=\"dataframe\">\n",
       "  <thead>\n",
       "    <tr style=\"text-align: right;\">\n",
       "      <th></th>\n",
       "      <th>Unnamed: 0</th>\n",
       "      <th>Age</th>\n",
       "      <th>Employment Type</th>\n",
       "      <th>GraduateOrNot</th>\n",
       "      <th>AnnualIncome</th>\n",
       "      <th>FamilyMembers</th>\n",
       "      <th>ChronicDiseases</th>\n",
       "      <th>FrequentFlyer</th>\n",
       "      <th>EverTravelledAbroad</th>\n",
       "      <th>TravelInsurance</th>\n",
       "    </tr>\n",
       "  </thead>\n",
       "  <tbody>\n",
       "    <tr>\n",
       "      <th>0</th>\n",
       "      <td>0</td>\n",
       "      <td>31</td>\n",
       "      <td>Government Sector</td>\n",
       "      <td>Yes</td>\n",
       "      <td>400000</td>\n",
       "      <td>6</td>\n",
       "      <td>1</td>\n",
       "      <td>No</td>\n",
       "      <td>No</td>\n",
       "      <td>0</td>\n",
       "    </tr>\n",
       "    <tr>\n",
       "      <th>1</th>\n",
       "      <td>1</td>\n",
       "      <td>31</td>\n",
       "      <td>Private Sector/Self Employed</td>\n",
       "      <td>Yes</td>\n",
       "      <td>1250000</td>\n",
       "      <td>7</td>\n",
       "      <td>0</td>\n",
       "      <td>No</td>\n",
       "      <td>No</td>\n",
       "      <td>0</td>\n",
       "    </tr>\n",
       "    <tr>\n",
       "      <th>2</th>\n",
       "      <td>2</td>\n",
       "      <td>34</td>\n",
       "      <td>Private Sector/Self Employed</td>\n",
       "      <td>Yes</td>\n",
       "      <td>500000</td>\n",
       "      <td>4</td>\n",
       "      <td>1</td>\n",
       "      <td>No</td>\n",
       "      <td>No</td>\n",
       "      <td>1</td>\n",
       "    </tr>\n",
       "    <tr>\n",
       "      <th>3</th>\n",
       "      <td>3</td>\n",
       "      <td>28</td>\n",
       "      <td>Private Sector/Self Employed</td>\n",
       "      <td>Yes</td>\n",
       "      <td>700000</td>\n",
       "      <td>3</td>\n",
       "      <td>1</td>\n",
       "      <td>No</td>\n",
       "      <td>No</td>\n",
       "      <td>0</td>\n",
       "    </tr>\n",
       "    <tr>\n",
       "      <th>4</th>\n",
       "      <td>4</td>\n",
       "      <td>28</td>\n",
       "      <td>Private Sector/Self Employed</td>\n",
       "      <td>Yes</td>\n",
       "      <td>700000</td>\n",
       "      <td>8</td>\n",
       "      <td>1</td>\n",
       "      <td>Yes</td>\n",
       "      <td>No</td>\n",
       "      <td>0</td>\n",
       "    </tr>\n",
       "    <tr>\n",
       "      <th>...</th>\n",
       "      <td>...</td>\n",
       "      <td>...</td>\n",
       "      <td>...</td>\n",
       "      <td>...</td>\n",
       "      <td>...</td>\n",
       "      <td>...</td>\n",
       "      <td>...</td>\n",
       "      <td>...</td>\n",
       "      <td>...</td>\n",
       "      <td>...</td>\n",
       "    </tr>\n",
       "    <tr>\n",
       "      <th>1982</th>\n",
       "      <td>1982</td>\n",
       "      <td>33</td>\n",
       "      <td>Private Sector/Self Employed</td>\n",
       "      <td>Yes</td>\n",
       "      <td>1500000</td>\n",
       "      <td>4</td>\n",
       "      <td>0</td>\n",
       "      <td>Yes</td>\n",
       "      <td>Yes</td>\n",
       "      <td>1</td>\n",
       "    </tr>\n",
       "    <tr>\n",
       "      <th>1983</th>\n",
       "      <td>1983</td>\n",
       "      <td>28</td>\n",
       "      <td>Private Sector/Self Employed</td>\n",
       "      <td>Yes</td>\n",
       "      <td>1750000</td>\n",
       "      <td>5</td>\n",
       "      <td>1</td>\n",
       "      <td>No</td>\n",
       "      <td>Yes</td>\n",
       "      <td>0</td>\n",
       "    </tr>\n",
       "    <tr>\n",
       "      <th>1984</th>\n",
       "      <td>1984</td>\n",
       "      <td>28</td>\n",
       "      <td>Private Sector/Self Employed</td>\n",
       "      <td>Yes</td>\n",
       "      <td>1150000</td>\n",
       "      <td>6</td>\n",
       "      <td>1</td>\n",
       "      <td>No</td>\n",
       "      <td>No</td>\n",
       "      <td>0</td>\n",
       "    </tr>\n",
       "    <tr>\n",
       "      <th>1985</th>\n",
       "      <td>1985</td>\n",
       "      <td>34</td>\n",
       "      <td>Private Sector/Self Employed</td>\n",
       "      <td>Yes</td>\n",
       "      <td>1000000</td>\n",
       "      <td>6</td>\n",
       "      <td>0</td>\n",
       "      <td>Yes</td>\n",
       "      <td>Yes</td>\n",
       "      <td>1</td>\n",
       "    </tr>\n",
       "    <tr>\n",
       "      <th>1986</th>\n",
       "      <td>1986</td>\n",
       "      <td>34</td>\n",
       "      <td>Private Sector/Self Employed</td>\n",
       "      <td>Yes</td>\n",
       "      <td>500000</td>\n",
       "      <td>4</td>\n",
       "      <td>0</td>\n",
       "      <td>No</td>\n",
       "      <td>No</td>\n",
       "      <td>0</td>\n",
       "    </tr>\n",
       "  </tbody>\n",
       "</table>\n",
       "<p>1987 rows × 10 columns</p>\n",
       "</div>"
      ],
      "text/plain": [
       "      Unnamed: 0  Age               Employment Type GraduateOrNot  \\\n",
       "0              0   31             Government Sector           Yes   \n",
       "1              1   31  Private Sector/Self Employed           Yes   \n",
       "2              2   34  Private Sector/Self Employed           Yes   \n",
       "3              3   28  Private Sector/Self Employed           Yes   \n",
       "4              4   28  Private Sector/Self Employed           Yes   \n",
       "...          ...  ...                           ...           ...   \n",
       "1982        1982   33  Private Sector/Self Employed           Yes   \n",
       "1983        1983   28  Private Sector/Self Employed           Yes   \n",
       "1984        1984   28  Private Sector/Self Employed           Yes   \n",
       "1985        1985   34  Private Sector/Self Employed           Yes   \n",
       "1986        1986   34  Private Sector/Self Employed           Yes   \n",
       "\n",
       "      AnnualIncome  FamilyMembers  ChronicDiseases FrequentFlyer  \\\n",
       "0           400000              6                1            No   \n",
       "1          1250000              7                0            No   \n",
       "2           500000              4                1            No   \n",
       "3           700000              3                1            No   \n",
       "4           700000              8                1           Yes   \n",
       "...            ...            ...              ...           ...   \n",
       "1982       1500000              4                0           Yes   \n",
       "1983       1750000              5                1            No   \n",
       "1984       1150000              6                1            No   \n",
       "1985       1000000              6                0           Yes   \n",
       "1986        500000              4                0            No   \n",
       "\n",
       "     EverTravelledAbroad  TravelInsurance  \n",
       "0                     No                0  \n",
       "1                     No                0  \n",
       "2                     No                1  \n",
       "3                     No                0  \n",
       "4                     No                0  \n",
       "...                  ...              ...  \n",
       "1982                 Yes                1  \n",
       "1983                 Yes                0  \n",
       "1984                  No                0  \n",
       "1985                 Yes                1  \n",
       "1986                  No                0  \n",
       "\n",
       "[1987 rows x 10 columns]"
      ]
     },
     "execution_count": 2,
     "metadata": {},
     "output_type": "execute_result"
    }
   ],
   "source": [
    "# read data\n",
    "df = pd.read_csv(\"TravelInsurancePrediction.csv\")\n",
    "df"
   ]
  },
  {
   "cell_type": "code",
   "execution_count": 3,
   "id": "0677d948",
   "metadata": {},
   "outputs": [
    {
     "data": {
      "text/html": [
       "<div>\n",
       "<style scoped>\n",
       "    .dataframe tbody tr th:only-of-type {\n",
       "        vertical-align: middle;\n",
       "    }\n",
       "\n",
       "    .dataframe tbody tr th {\n",
       "        vertical-align: top;\n",
       "    }\n",
       "\n",
       "    .dataframe thead th {\n",
       "        text-align: right;\n",
       "    }\n",
       "</style>\n",
       "<table border=\"1\" class=\"dataframe\">\n",
       "  <thead>\n",
       "    <tr style=\"text-align: right;\">\n",
       "      <th></th>\n",
       "      <th>Unnamed: 0</th>\n",
       "      <th>Age</th>\n",
       "      <th>Employment Type</th>\n",
       "      <th>GraduateOrNot</th>\n",
       "      <th>AnnualIncome</th>\n",
       "      <th>FamilyMembers</th>\n",
       "      <th>ChronicDiseases</th>\n",
       "      <th>FrequentFlyer</th>\n",
       "      <th>EverTravelledAbroad</th>\n",
       "      <th>TravelInsurance</th>\n",
       "    </tr>\n",
       "  </thead>\n",
       "  <tbody>\n",
       "    <tr>\n",
       "      <th>0</th>\n",
       "      <td>0</td>\n",
       "      <td>31</td>\n",
       "      <td>Government Sector</td>\n",
       "      <td>Yes</td>\n",
       "      <td>400000</td>\n",
       "      <td>6</td>\n",
       "      <td>1</td>\n",
       "      <td>No</td>\n",
       "      <td>No</td>\n",
       "      <td>0</td>\n",
       "    </tr>\n",
       "    <tr>\n",
       "      <th>1</th>\n",
       "      <td>1</td>\n",
       "      <td>31</td>\n",
       "      <td>Private Sector/Self Employed</td>\n",
       "      <td>Yes</td>\n",
       "      <td>1250000</td>\n",
       "      <td>7</td>\n",
       "      <td>0</td>\n",
       "      <td>No</td>\n",
       "      <td>No</td>\n",
       "      <td>0</td>\n",
       "    </tr>\n",
       "    <tr>\n",
       "      <th>2</th>\n",
       "      <td>2</td>\n",
       "      <td>34</td>\n",
       "      <td>Private Sector/Self Employed</td>\n",
       "      <td>Yes</td>\n",
       "      <td>500000</td>\n",
       "      <td>4</td>\n",
       "      <td>1</td>\n",
       "      <td>No</td>\n",
       "      <td>No</td>\n",
       "      <td>1</td>\n",
       "    </tr>\n",
       "    <tr>\n",
       "      <th>3</th>\n",
       "      <td>3</td>\n",
       "      <td>28</td>\n",
       "      <td>Private Sector/Self Employed</td>\n",
       "      <td>Yes</td>\n",
       "      <td>700000</td>\n",
       "      <td>3</td>\n",
       "      <td>1</td>\n",
       "      <td>No</td>\n",
       "      <td>No</td>\n",
       "      <td>0</td>\n",
       "    </tr>\n",
       "    <tr>\n",
       "      <th>4</th>\n",
       "      <td>4</td>\n",
       "      <td>28</td>\n",
       "      <td>Private Sector/Self Employed</td>\n",
       "      <td>Yes</td>\n",
       "      <td>700000</td>\n",
       "      <td>8</td>\n",
       "      <td>1</td>\n",
       "      <td>Yes</td>\n",
       "      <td>No</td>\n",
       "      <td>0</td>\n",
       "    </tr>\n",
       "  </tbody>\n",
       "</table>\n",
       "</div>"
      ],
      "text/plain": [
       "   Unnamed: 0  Age               Employment Type GraduateOrNot  AnnualIncome  \\\n",
       "0           0   31             Government Sector           Yes        400000   \n",
       "1           1   31  Private Sector/Self Employed           Yes       1250000   \n",
       "2           2   34  Private Sector/Self Employed           Yes        500000   \n",
       "3           3   28  Private Sector/Self Employed           Yes        700000   \n",
       "4           4   28  Private Sector/Self Employed           Yes        700000   \n",
       "\n",
       "   FamilyMembers  ChronicDiseases FrequentFlyer EverTravelledAbroad  \\\n",
       "0              6                1            No                  No   \n",
       "1              7                0            No                  No   \n",
       "2              4                1            No                  No   \n",
       "3              3                1            No                  No   \n",
       "4              8                1           Yes                  No   \n",
       "\n",
       "   TravelInsurance  \n",
       "0                0  \n",
       "1                0  \n",
       "2                1  \n",
       "3                0  \n",
       "4                0  "
      ]
     },
     "execution_count": 3,
     "metadata": {},
     "output_type": "execute_result"
    }
   ],
   "source": [
    "# Get 5 rows in dataframe\n",
    "df.head()"
   ]
  },
  {
   "cell_type": "code",
   "execution_count": 4,
   "id": "2a99f0f2",
   "metadata": {},
   "outputs": [
    {
     "data": {
      "text/html": [
       "<div>\n",
       "<style scoped>\n",
       "    .dataframe tbody tr th:only-of-type {\n",
       "        vertical-align: middle;\n",
       "    }\n",
       "\n",
       "    .dataframe tbody tr th {\n",
       "        vertical-align: top;\n",
       "    }\n",
       "\n",
       "    .dataframe thead th {\n",
       "        text-align: right;\n",
       "    }\n",
       "</style>\n",
       "<table border=\"1\" class=\"dataframe\">\n",
       "  <thead>\n",
       "    <tr style=\"text-align: right;\">\n",
       "      <th></th>\n",
       "      <th>Age</th>\n",
       "      <th>Employment Type</th>\n",
       "      <th>GraduateOrNot</th>\n",
       "      <th>AnnualIncome</th>\n",
       "      <th>FamilyMembers</th>\n",
       "      <th>ChronicDiseases</th>\n",
       "      <th>FrequentFlyer</th>\n",
       "      <th>EverTravelledAbroad</th>\n",
       "      <th>TravelInsurance</th>\n",
       "    </tr>\n",
       "  </thead>\n",
       "  <tbody>\n",
       "    <tr>\n",
       "      <th>0</th>\n",
       "      <td>31</td>\n",
       "      <td>Government Sector</td>\n",
       "      <td>Yes</td>\n",
       "      <td>400000</td>\n",
       "      <td>6</td>\n",
       "      <td>1</td>\n",
       "      <td>No</td>\n",
       "      <td>No</td>\n",
       "      <td>0</td>\n",
       "    </tr>\n",
       "    <tr>\n",
       "      <th>1</th>\n",
       "      <td>31</td>\n",
       "      <td>Private Sector/Self Employed</td>\n",
       "      <td>Yes</td>\n",
       "      <td>1250000</td>\n",
       "      <td>7</td>\n",
       "      <td>0</td>\n",
       "      <td>No</td>\n",
       "      <td>No</td>\n",
       "      <td>0</td>\n",
       "    </tr>\n",
       "    <tr>\n",
       "      <th>2</th>\n",
       "      <td>34</td>\n",
       "      <td>Private Sector/Self Employed</td>\n",
       "      <td>Yes</td>\n",
       "      <td>500000</td>\n",
       "      <td>4</td>\n",
       "      <td>1</td>\n",
       "      <td>No</td>\n",
       "      <td>No</td>\n",
       "      <td>1</td>\n",
       "    </tr>\n",
       "    <tr>\n",
       "      <th>3</th>\n",
       "      <td>28</td>\n",
       "      <td>Private Sector/Self Employed</td>\n",
       "      <td>Yes</td>\n",
       "      <td>700000</td>\n",
       "      <td>3</td>\n",
       "      <td>1</td>\n",
       "      <td>No</td>\n",
       "      <td>No</td>\n",
       "      <td>0</td>\n",
       "    </tr>\n",
       "    <tr>\n",
       "      <th>4</th>\n",
       "      <td>28</td>\n",
       "      <td>Private Sector/Self Employed</td>\n",
       "      <td>Yes</td>\n",
       "      <td>700000</td>\n",
       "      <td>8</td>\n",
       "      <td>1</td>\n",
       "      <td>Yes</td>\n",
       "      <td>No</td>\n",
       "      <td>0</td>\n",
       "    </tr>\n",
       "    <tr>\n",
       "      <th>...</th>\n",
       "      <td>...</td>\n",
       "      <td>...</td>\n",
       "      <td>...</td>\n",
       "      <td>...</td>\n",
       "      <td>...</td>\n",
       "      <td>...</td>\n",
       "      <td>...</td>\n",
       "      <td>...</td>\n",
       "      <td>...</td>\n",
       "    </tr>\n",
       "    <tr>\n",
       "      <th>1982</th>\n",
       "      <td>33</td>\n",
       "      <td>Private Sector/Self Employed</td>\n",
       "      <td>Yes</td>\n",
       "      <td>1500000</td>\n",
       "      <td>4</td>\n",
       "      <td>0</td>\n",
       "      <td>Yes</td>\n",
       "      <td>Yes</td>\n",
       "      <td>1</td>\n",
       "    </tr>\n",
       "    <tr>\n",
       "      <th>1983</th>\n",
       "      <td>28</td>\n",
       "      <td>Private Sector/Self Employed</td>\n",
       "      <td>Yes</td>\n",
       "      <td>1750000</td>\n",
       "      <td>5</td>\n",
       "      <td>1</td>\n",
       "      <td>No</td>\n",
       "      <td>Yes</td>\n",
       "      <td>0</td>\n",
       "    </tr>\n",
       "    <tr>\n",
       "      <th>1984</th>\n",
       "      <td>28</td>\n",
       "      <td>Private Sector/Self Employed</td>\n",
       "      <td>Yes</td>\n",
       "      <td>1150000</td>\n",
       "      <td>6</td>\n",
       "      <td>1</td>\n",
       "      <td>No</td>\n",
       "      <td>No</td>\n",
       "      <td>0</td>\n",
       "    </tr>\n",
       "    <tr>\n",
       "      <th>1985</th>\n",
       "      <td>34</td>\n",
       "      <td>Private Sector/Self Employed</td>\n",
       "      <td>Yes</td>\n",
       "      <td>1000000</td>\n",
       "      <td>6</td>\n",
       "      <td>0</td>\n",
       "      <td>Yes</td>\n",
       "      <td>Yes</td>\n",
       "      <td>1</td>\n",
       "    </tr>\n",
       "    <tr>\n",
       "      <th>1986</th>\n",
       "      <td>34</td>\n",
       "      <td>Private Sector/Self Employed</td>\n",
       "      <td>Yes</td>\n",
       "      <td>500000</td>\n",
       "      <td>4</td>\n",
       "      <td>0</td>\n",
       "      <td>No</td>\n",
       "      <td>No</td>\n",
       "      <td>0</td>\n",
       "    </tr>\n",
       "  </tbody>\n",
       "</table>\n",
       "<p>1987 rows × 9 columns</p>\n",
       "</div>"
      ],
      "text/plain": [
       "      Age               Employment Type GraduateOrNot  AnnualIncome  \\\n",
       "0      31             Government Sector           Yes        400000   \n",
       "1      31  Private Sector/Self Employed           Yes       1250000   \n",
       "2      34  Private Sector/Self Employed           Yes        500000   \n",
       "3      28  Private Sector/Self Employed           Yes        700000   \n",
       "4      28  Private Sector/Self Employed           Yes        700000   \n",
       "...   ...                           ...           ...           ...   \n",
       "1982   33  Private Sector/Self Employed           Yes       1500000   \n",
       "1983   28  Private Sector/Self Employed           Yes       1750000   \n",
       "1984   28  Private Sector/Self Employed           Yes       1150000   \n",
       "1985   34  Private Sector/Self Employed           Yes       1000000   \n",
       "1986   34  Private Sector/Self Employed           Yes        500000   \n",
       "\n",
       "      FamilyMembers  ChronicDiseases FrequentFlyer EverTravelledAbroad  \\\n",
       "0                 6                1            No                  No   \n",
       "1                 7                0            No                  No   \n",
       "2                 4                1            No                  No   \n",
       "3                 3                1            No                  No   \n",
       "4                 8                1           Yes                  No   \n",
       "...             ...              ...           ...                 ...   \n",
       "1982              4                0           Yes                 Yes   \n",
       "1983              5                1            No                 Yes   \n",
       "1984              6                1            No                  No   \n",
       "1985              6                0           Yes                 Yes   \n",
       "1986              4                0            No                  No   \n",
       "\n",
       "      TravelInsurance  \n",
       "0                   0  \n",
       "1                   0  \n",
       "2                   1  \n",
       "3                   0  \n",
       "4                   0  \n",
       "...               ...  \n",
       "1982                1  \n",
       "1983                0  \n",
       "1984                0  \n",
       "1985                1  \n",
       "1986                0  \n",
       "\n",
       "[1987 rows x 9 columns]"
      ]
     },
     "execution_count": 4,
     "metadata": {},
     "output_type": "execute_result"
    }
   ],
   "source": [
    "# Drop \"unnamed\" columns\n",
    "df = df.drop('Unnamed: 0', axis = 1)\n",
    "df"
   ]
  },
  {
   "cell_type": "markdown",
   "id": "cb19ca71",
   "metadata": {},
   "source": [
    "## Data Analysis"
   ]
  },
  {
   "cell_type": "code",
   "execution_count": 5,
   "id": "13f92119",
   "metadata": {},
   "outputs": [],
   "source": [
    "# Get categorical columns and numerical columns\n",
    "categorical_cols = [feature for feature in df.columns if df[feature].dtype == \"O\"]\n",
    "numerical_cols = [feature for feature in df.columns if df[feature].dtype != \"O\"]"
   ]
  },
  {
   "cell_type": "code",
   "execution_count": 6,
   "id": "3c4625a2",
   "metadata": {},
   "outputs": [
    {
     "name": "stdout",
     "output_type": "stream",
     "text": [
      "Cathegorical :  ['Employment Type', 'GraduateOrNot', 'FrequentFlyer', 'EverTravelledAbroad']\n"
     ]
    }
   ],
   "source": [
    "# display cathegorical columns\n",
    "print(\"Cathegorical : \", categorical_cols)"
   ]
  },
  {
   "cell_type": "code",
   "execution_count": 7,
   "id": "6c2c7484",
   "metadata": {},
   "outputs": [
    {
     "name": "stdout",
     "output_type": "stream",
     "text": [
      "Numerical :  ['Age', 'AnnualIncome', 'FamilyMembers', 'ChronicDiseases', 'TravelInsurance']\n"
     ]
    }
   ],
   "source": [
    "# display numerical columns\n",
    "print(\"Numerical : \", numerical_cols)"
   ]
  },
  {
   "cell_type": "code",
   "execution_count": 8,
   "id": "18de333d",
   "metadata": {},
   "outputs": [
    {
     "data": {
      "text/plain": [
       "Employment Type        0\n",
       "GraduateOrNot          0\n",
       "FrequentFlyer          0\n",
       "EverTravelledAbroad    0\n",
       "dtype: int64"
      ]
     },
     "execution_count": 8,
     "metadata": {},
     "output_type": "execute_result"
    }
   ],
   "source": [
    "df[categorical_cols].isnull().sum() # count and display sum \"NULL\" values in categorical columns"
   ]
  },
  {
   "cell_type": "code",
   "execution_count": 9,
   "id": "4507dd4f",
   "metadata": {},
   "outputs": [
    {
     "data": {
      "text/plain": [
       "Age                0\n",
       "AnnualIncome       0\n",
       "FamilyMembers      0\n",
       "ChronicDiseases    0\n",
       "TravelInsurance    0\n",
       "dtype: int64"
      ]
     },
     "execution_count": 9,
     "metadata": {},
     "output_type": "execute_result"
    }
   ],
   "source": [
    "df[numerical_cols].isnull().sum() # count and display sum \"NULL\" values in numerical columns"
   ]
  },
  {
   "cell_type": "code",
   "execution_count": 10,
   "id": "3bc6e421",
   "metadata": {},
   "outputs": [
    {
     "data": {
      "image/png": "[encoded data removed]",
      "text/plain": [
       "<Figure size 1008x720 with 5 Axes>"
      ]
     },
     "metadata": {
      "needs_background": "light"
     },
     "output_type": "display_data"
    }
   ],
   "source": [
    "# draw the boxplot of  numerical_cols\n",
    "fig, axes=plt.subplots(len(numerical_cols), 1, figsize=(14, 2*len(numerical_cols)),sharex=False,sharey=False)\n",
    "\n",
    "for i, column in enumerate(numerical_cols):\n",
    "    sns.boxplot(x=column,data=df,palette='crest',ax=axes[i])\n",
    "plt.tight_layout(pad=2.0)"
   ]
  },
  {
   "cell_type": "code",
   "execution_count": 11,
   "id": "b49f4583",
   "metadata": {},
   "outputs": [
    {
     "data": {
      "text/plain": [
       "<AxesSubplot:xlabel='Employment Type', ylabel='Count'>"
      ]
     },
     "execution_count": 11,
     "metadata": {},
     "output_type": "execute_result"
    },
    {
     "data": {
      "image/png": "[encoded data removed]",
      "text/plain": [
       "<Figure size 432x288 with 1 Axes>"
      ]
     },
     "metadata": {
      "needs_background": "light"
     },
     "output_type": "display_data"
    }
   ],
   "source": [
    "#Xem phân phối của EstimatedSalary\n",
    "sns.histplot(x=\"Employment Type\", data=df)"
   ]
  },
  {
   "cell_type": "code",
   "execution_count": 12,
   "id": "faaf4b99",
   "metadata": {},
   "outputs": [
    {
     "data": {
      "text/plain": [
       "<AxesSubplot:ylabel='FrequentFlyer'>"
      ]
     },
     "execution_count": 12,
     "metadata": {},
     "output_type": "execute_result"
    },
    {
     "data": {
      "image/png": "[encoded data removed]",
      "text/plain": [
       "<Figure size 432x288 with 1 Axes>"
      ]
     },
     "metadata": {},
     "output_type": "display_data"
    }
   ],
   "source": [
    "df.FrequentFlyer.value_counts().plot(kind='pie',autopct=\"%1.1f%%\") # draw the pie plot of Frequent Flyer to compare all values inside this columns"
   ]
  },
  {
   "cell_type": "code",
   "execution_count": 13,
   "id": "b80e895c",
   "metadata": {},
   "outputs": [
    {
     "data": {
      "text/plain": [
       "<AxesSubplot:ylabel='EverTravelledAbroad'>"
      ]
     },
     "execution_count": 13,
     "metadata": {},
     "output_type": "execute_result"
    },
    {
     "data": {
      "image/png": "[encoded data removed]",
      "text/plain": [
       "<Figure size 432x288 with 1 Axes>"
      ]
     },
     "metadata": {},
     "output_type": "display_data"
    }
   ],
   "source": [
    "# draw the pie plot of EverTravelledAbroad to compare all values inside this columns\n",
    "df.EverTravelledAbroad.value_counts().plot(kind='pie',autopct=\"%1.1f%%\") "
   ]
  },
  {
   "cell_type": "code",
   "execution_count": 14,
   "id": "6a754a40",
   "metadata": {},
   "outputs": [
    {
     "data": {
      "text/plain": [
       "<AxesSubplot:>"
      ]
     },
     "execution_count": 14,
     "metadata": {},
     "output_type": "execute_result"
    },
    {
     "data": {
      "image/png": "[encoded data removed]",
      "text/plain": [
       "<Figure size 720x360 with 2 Axes>"
      ]
     },
     "metadata": {
      "needs_background": "light"
     },
     "output_type": "display_data"
    }
   ],
   "source": [
    "# Draw the heatmap\n",
    "plt.figure(figsize=(10, 5))\n",
    "sns.heatmap(df.corr())"
   ]
  },
  {
   "cell_type": "markdown",
   "id": "3f4a9cba",
   "metadata": {},
   "source": [
    "## Preprocessing"
   ]
  },
  {
   "cell_type": "code",
   "execution_count": 15,
   "id": "0f41699c",
   "metadata": {},
   "outputs": [],
   "source": [
    "def preprocessing_data(df):\n",
    "    \"\"\"\n",
    "    Preprocess your data (eg. Drop null datapoints or fill missing data)\n",
    "    :param df: pandas DataFrame\n",
    "    :return: pandas DataFrame\n",
    "    \"\"\"\n",
    "    # Todo: preprocess data\n",
    "    df.drop(\"GraduateOrNot\", axis=1, inplace=True)\n",
    "    return df"
   ]
  },
  {
   "cell_type": "code",
   "execution_count": 16,
   "id": "8ac76941",
   "metadata": {},
   "outputs": [],
   "source": [
    "df = preprocessing_data(df.copy()) # print the data frame of above functions\n",
    "\n"
   ]
  },
  {
   "cell_type": "code",
   "execution_count": 17,
   "id": "1708faf2",
   "metadata": {},
   "outputs": [
    {
     "data": {
      "text/html": [
       "<div>\n",
       "<style scoped>\n",
       "    .dataframe tbody tr th:only-of-type {\n",
       "        vertical-align: middle;\n",
       "    }\n",
       "\n",
       "    .dataframe tbody tr th {\n",
       "        vertical-align: top;\n",
       "    }\n",
       "\n",
       "    .dataframe thead th {\n",
       "        text-align: right;\n",
       "    }\n",
       "</style>\n",
       "<table border=\"1\" class=\"dataframe\">\n",
       "  <thead>\n",
       "    <tr style=\"text-align: right;\">\n",
       "      <th></th>\n",
       "      <th>Age</th>\n",
       "      <th>Employment Type</th>\n",
       "      <th>AnnualIncome</th>\n",
       "      <th>FamilyMembers</th>\n",
       "      <th>ChronicDiseases</th>\n",
       "      <th>FrequentFlyer</th>\n",
       "      <th>EverTravelledAbroad</th>\n",
       "      <th>TravelInsurance</th>\n",
       "    </tr>\n",
       "  </thead>\n",
       "  <tbody>\n",
       "    <tr>\n",
       "      <th>0</th>\n",
       "      <td>31</td>\n",
       "      <td>Government Sector</td>\n",
       "      <td>400000</td>\n",
       "      <td>6</td>\n",
       "      <td>1</td>\n",
       "      <td>No</td>\n",
       "      <td>No</td>\n",
       "      <td>0</td>\n",
       "    </tr>\n",
       "    <tr>\n",
       "      <th>1</th>\n",
       "      <td>31</td>\n",
       "      <td>Private Sector/Self Employed</td>\n",
       "      <td>1250000</td>\n",
       "      <td>7</td>\n",
       "      <td>0</td>\n",
       "      <td>No</td>\n",
       "      <td>No</td>\n",
       "      <td>0</td>\n",
       "    </tr>\n",
       "    <tr>\n",
       "      <th>2</th>\n",
       "      <td>34</td>\n",
       "      <td>Private Sector/Self Employed</td>\n",
       "      <td>500000</td>\n",
       "      <td>4</td>\n",
       "      <td>1</td>\n",
       "      <td>No</td>\n",
       "      <td>No</td>\n",
       "      <td>1</td>\n",
       "    </tr>\n",
       "    <tr>\n",
       "      <th>3</th>\n",
       "      <td>28</td>\n",
       "      <td>Private Sector/Self Employed</td>\n",
       "      <td>700000</td>\n",
       "      <td>3</td>\n",
       "      <td>1</td>\n",
       "      <td>No</td>\n",
       "      <td>No</td>\n",
       "      <td>0</td>\n",
       "    </tr>\n",
       "    <tr>\n",
       "      <th>4</th>\n",
       "      <td>28</td>\n",
       "      <td>Private Sector/Self Employed</td>\n",
       "      <td>700000</td>\n",
       "      <td>8</td>\n",
       "      <td>1</td>\n",
       "      <td>Yes</td>\n",
       "      <td>No</td>\n",
       "      <td>0</td>\n",
       "    </tr>\n",
       "  </tbody>\n",
       "</table>\n",
       "</div>"
      ],
      "text/plain": [
       "   Age               Employment Type  AnnualIncome  FamilyMembers  \\\n",
       "0   31             Government Sector        400000              6   \n",
       "1   31  Private Sector/Self Employed       1250000              7   \n",
       "2   34  Private Sector/Self Employed        500000              4   \n",
       "3   28  Private Sector/Self Employed        700000              3   \n",
       "4   28  Private Sector/Self Employed        700000              8   \n",
       "\n",
       "   ChronicDiseases FrequentFlyer EverTravelledAbroad  TravelInsurance  \n",
       "0                1            No                  No                0  \n",
       "1                0            No                  No                0  \n",
       "2                1            No                  No                1  \n",
       "3                1            No                  No                0  \n",
       "4                1           Yes                  No                0  "
      ]
     },
     "execution_count": 17,
     "metadata": {},
     "output_type": "execute_result"
    }
   ],
   "source": [
    "df.head()"
   ]
  },
  {
   "cell_type": "markdown",
   "id": "37047e56",
   "metadata": {},
   "source": [
    "## Feature Engineering"
   ]
  },
  {
   "cell_type": "code",
   "execution_count": 36,
   "id": "01eefd24",
   "metadata": {},
   "outputs": [],
   "source": [
    "# import the library\n",
    "import seaborn as sns\n",
    "from sklearn.preprocessing import OneHotEncoder"
   ]
  },
  {
   "cell_type": "code",
   "execution_count": 37,
   "id": "80e48412",
   "metadata": {},
   "outputs": [],
   "source": [
    "# Heatmap\n",
    "def apply_feature_engineering(df):\n",
    "    \"\"\"\n",
    "    Apply all feature engineering to transform your data into number\n",
    "    :param df: pandas DataFrame\n",
    "    :return: pandas DataFrame\n",
    "    \"\"\"\n",
    "    # Todo: Normalize your data\n",
    "    df[\"Employment Type\"] = df[\"Employment Type\"].astype(\"category\").cat.codes\n",
    "    df[\"FrequentFlyer\"] = df[\"FrequentFlyer\"].astype(\"category\").cat.codes\n",
    "    df[\"EverTravelledAbroad\"] = df[\"EverTravelledAbroad\"].astype(\"category\").cat.codes\n",
    "    enc = OneHotEncoder()\n",
    "    enc_data = pd.DataFrame(enc.fit_transform(\n",
    "    df[['Employment Type', 'FrequentFlyer','EverTravelledAbroad']]).toarray())\n",
    "    df = df.join(enc_data)\n",
    "    return df"
   ]
  },
  {
   "cell_type": "code",
   "execution_count": 38,
   "id": "72757cea",
   "metadata": {},
   "outputs": [],
   "source": [
    "df = apply_feature_engineering(df)"
   ]
  },
  {
   "cell_type": "code",
   "execution_count": 39,
   "id": "9e6f69b2",
   "metadata": {},
   "outputs": [
    {
     "data": {
      "text/plain": [
       "<AxesSubplot:>"
      ]
     },
     "execution_count": 39,
     "metadata": {},
     "output_type": "execute_result"
    },
    {
     "data": {
      "image/png": "[encoded data removed]",
      "text/plain": [
       "<Figure size 432x288 with 2 Axes>"
      ]
     },
     "metadata": {
      "needs_background": "light"
     },
     "output_type": "display_data"
    }
   ],
   "source": [
    "sns.heatmap(df.corr()) # Show heatmap after normalized data"
   ]
  },
  {
   "cell_type": "code",
   "execution_count": 40,
   "id": "2e56750e",
   "metadata": {},
   "outputs": [],
   "source": [
    "def prepare_X_y(df):\n",
    "    \"\"\"\n",
    "    Feature engineering and create X and y\n",
    "    :param df: pandas dataframe\n",
    "    :return: (X, y) output feature matrix (dataframe), target (series)\n",
    "    \"\"\"\n",
    "    # Todo: Split data into X and y (using sklearn train_test_split). Return two dataframes\n",
    "    feature_names = df.columns.tolist()\n",
    "    feature_names.remove(\"TravelInsurance\")\n",
    "    X = df[feature_names].values\n",
    "    y = df.TravelInsurance.values\n",
    "    return X, y"
   ]
  },
  {
   "cell_type": "code",
   "execution_count": 41,
   "id": "bb6e6f97",
   "metadata": {},
   "outputs": [],
   "source": [
    "X, y = prepare_X_y(df)"
   ]
  },
  {
   "cell_type": "markdown",
   "id": "acc1e4ec",
   "metadata": {},
   "source": [
    "# Apply machine learning model"
   ]
  },
  {
   "cell_type": "markdown",
   "id": "29411b02",
   "metadata": {},
   "source": [
    "## Train-test split"
   ]
  },
  {
   "cell_type": "code",
   "execution_count": 42,
   "id": "9cd50859",
   "metadata": {},
   "outputs": [],
   "source": [
    "from sklearn.model_selection import train_test_split\n",
    "RANDOM_STATE = 42\n",
    "TRAIN_SIZE = 0.7\n",
    "\n",
    "X_train,X_test ,Y_train, Y_test = train_test_split(X, y, train_size=TRAIN_SIZE, random_state=RANDOM_STATE)"
   ]
  },
  {
   "cell_type": "code",
   "execution_count": 60,
   "id": "83284888",
   "metadata": {},
   "outputs": [],
   "source": [
    "from sklearn.metrics import classification_report\n",
    "from sklearn.pipeline import make_pipeline\n",
    "from sklearn.metrics import accuracy_score, f1_score, precision_score, recall_score, classification_report\n",
    "from sklearn.pipeline import make_pipeline\n",
    "from sklearn.preprocessing import StandardScaler\n",
    "from sklearn.naive_bayes import GaussianNB\n",
    "from sklearn.preprocessing import MinMaxScaler\n",
    "from sklearn.model_selection import GridSearchCV"
   ]
  },
  {
   "cell_type": "markdown",
   "id": "e8e1d5ee",
   "metadata": {},
   "source": [
    "def build_model(X, y):\n",
    "    \"\"\"\n",
    "    Design your model and train it (including your best params)\n",
    "    :param X: feature matrix\n",
    "    :param y: target\n",
    "    :return: a model\n",
    "    \"\"\"\n",
    "    scaler = MinMaxScaler()\n",
    "    model = make_pipeline(GaussianNB())\n",
    "    model.fit(X, y)\n",
    "    return model"
   ]
  },
  {
   "cell_type": "code",
   "execution_count": 74,
   "id": "1b94ca61",
   "metadata": {},
   "outputs": [],
   "source": [
    "def build_model(X, y):\n",
    "    \"\"\"\n",
    "    Design your model and train it (including your best params)\n",
    "    :param X: feature matrix\n",
    "    :param y: target\n",
    "    :return: a model\n",
    "    \"\"\"\n",
    "    scaler = MinMaxScaler() # Using MinMaxScaler to scaler data\n",
    "    param_grid_nb = {'var_smoothing': np.logspace(0,-9, num=100)}\n",
    "    # using gridsearchcv\n",
    "    model = GridSearchCV(estimator=GaussianNB(), param_grid=param_grid_nb, verbose=2, cv=15, n_jobs=-1)\n",
    "    model.fit(X, y)\n",
    "    print(model.best_estimator_)\n",
    "    return model"
   ]
  },
  {
   "cell_type": "code",
   "execution_count": 75,
   "id": "a0fb0993",
   "metadata": {},
   "outputs": [],
   "source": [
    "def calculate_performance(y_true, y_pred):\n",
    "    \"\"\"\n",
    "\n",
    "    :param y_true: ground truth values\n",
    "    :param y_pred: predictions\n",
    "    :return:\n",
    "    \"\"\"\n",
    "    # Todo: return your error value like accuracy, f1score, ...\n",
    "    # display precision, recall, accuracy, f1\n",
    "    print(\"Precision\", precision_score(y_true, y_pred)) \n",
    "    print(\"Recall\", recall_score(y_true, y_pred))\n",
    "    print(\"Accuracy\", accuracy_score(y_true, y_pred))\n",
    "    print(\"F1\", f1_score(y_true, y_pred))\n",
    "\n",
    "    # Todo: Only choose one of them as your score for the question 7\n",
    "    main_score = accuracy_score(y_true, y_pred)\n",
    "    return main_score"
   ]
  },
  {
   "cell_type": "code",
   "execution_count": 76,
   "id": "1b335ba0",
   "metadata": {},
   "outputs": [
    {
     "name": "stdout",
     "output_type": "stream",
     "text": [
      "Fitting 15 folds for each of 100 candidates, totalling 1500 fits\n",
      "GaussianNB(var_smoothing=0.43287612810830584)\n"
     ]
    }
   ],
   "source": [
    "model = build_model(X_train, Y_train)"
   ]
  },
  {
   "cell_type": "code",
   "execution_count": 77,
   "id": "a93713c3",
   "metadata": {},
   "outputs": [
    {
     "name": "stdout",
     "output_type": "stream",
     "text": [
      "Training performance:\n",
      "              precision    recall  f1-score   support\n",
      "\n",
      "           0       0.77      0.97      0.86       902\n",
      "           1       0.90      0.45      0.60       488\n",
      "\n",
      "    accuracy                           0.79      1390\n",
      "   macro avg       0.83      0.71      0.73      1390\n",
      "weighted avg       0.81      0.79      0.77      1390\n",
      "\n",
      "Precision 0.8983739837398373\n",
      "Recall 0.45286885245901637\n",
      "Accuracy 0.7899280575539568\n",
      "F1 0.6021798365122615\n",
      "Main score: 0.7899280575539568\n"
     ]
    }
   ],
   "source": [
    "# Compare on training dataset\n",
    "pred_train= model.predict(X_train)\n",
    "print(\"Training performance:\")\n",
    "print(classification_report(Y_train, pred_train))\n",
    "print(\"Main score:\", calculate_performance(Y_train, pred_train))"
   ]
  },
  {
   "cell_type": "code",
   "execution_count": 78,
   "id": "0422a287",
   "metadata": {},
   "outputs": [
    {
     "name": "stdout",
     "output_type": "stream",
     "text": [
      "Training performance:\n",
      "              precision    recall  f1-score   support\n",
      "\n",
      "           0       0.75      0.98      0.85       375\n",
      "           1       0.94      0.44      0.60       222\n",
      "\n",
      "    accuracy                           0.78       597\n",
      "   macro avg       0.84      0.71      0.72       597\n",
      "weighted avg       0.82      0.78      0.76       597\n",
      "\n",
      "Precision 0.941747572815534\n",
      "Recall 0.4369369369369369\n",
      "Accuracy 0.7805695142378559\n",
      "F1 0.5969230769230769\n",
      "Main score: 0.7805695142378559\n"
     ]
    }
   ],
   "source": [
    "# Compare on testing dataset\n",
    "pred_test= model.predict(X_test)\n",
    "print(\"Training performance:\")\n",
    "print(classification_report(Y_test, pred_test))\n",
    "print(\"Main score:\", calculate_performance(Y_test, pred_test))"
   ]
  },
  {
   "cell_type": "markdown",
   "id": "db6f0386",
   "metadata": {},
   "source": [
    "### REPORTING:\n",
    "- Theo em trong bài toán này, precision (độ chính xác) là quan trọng nhất vì nó đo lường tỉ lệ số lượng khách hàng được dự đoán mua gói bảo hiểm Covid - 19 chính xác so với tổng số khách hàng được dự đoán mua. Đối với công ty du lịch, việc dự đoán chính xác khách hàng nào muốn mua gói bảo hiểm Covid-19 là rất quan trọng để tối ưu chiến lược tiếp thị và đẩy mạnh doanh số. Khi Precision càng cao, tức là việc dự đoán mua gói của khách hàng là chính xác và công ty có thể tận dụng thông tin này để tăng doanh thu. Các chỉ số khác như Recall, F1 hay Accuracy có thể không quan trọng như Precision trong trường hợp này.\n",
    "- Mô hình này em đã dùng minmaxscaler() của hàm sklearn để giải quyết vấn đề và sau đó chuyển đổi các dạng categorical sang numerical để có thể sử dụng gaussian naive bayes để build model.\n",
    "- Kết quả trên tập training dataset cho thấy precision đạt chính xác là 0,8984, độ chính xác accuracy đạt 0,7899 và recall đạt 0,4529 và f1 score cũng đạt được 0,6022. Kết quả này cho thấy tập dữ liệu hoạt động tương đối tốt trên tập train \n",
    "- Kết quả trên tập test dataset cho thấy precision đạt chính xác là 0,9417; độ chính xác accuracy đạt 0,7806 và recall đạt 0,4369 và f1 score cũng đạt được 0,6969. Kết quả này cho thấy tập dữ liệu hoạt động tương đối tốt trên tập test\n",
    "- Tóm lại, mô hình được xây dựng thư viện scikit-learn naive bayes hoạt động tốt trên tập dữ liệu train và test với độ precision là 94% và độ chính xác accuracy là 78%. Kết quả cho thấy rằng mô hình hù hợp để dự đoán độ chính xác của biến mục tiêu dựa trên các feature  và label được cung cấp."
   ]
  },
  {
   "cell_type": "code",
   "execution_count": null,
   "id": "f5a355ab",
   "metadata": {},
   "outputs": [],
   "source": []
  }
 ],
 "metadata": {
  "kernelspec": {
   "display_name": "Python 3 (ipykernel)",
   "language": "python",
   "name": "python3"
  },
  "language_info": {
   "codemirror_mode": {
    "name": "ipython",
    "version": 3
   },
   "file_extension": ".py",
   "mimetype": "text/x-python",
   "name": "python",
   "nbconvert_exporter": "python",
   "pygments_lexer": "ipython3",
   "version": "3.9.12"
  }
 },
 "nbformat": 4,
 "nbformat_minor": 5
}
